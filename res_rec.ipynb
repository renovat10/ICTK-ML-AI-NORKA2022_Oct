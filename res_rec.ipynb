{
 "cells": [
  {
   "cell_type": "code",
   "execution_count": 1,
   "id": "5d9d3439",
   "metadata": {},
   "outputs": [],
   "source": [
    "import pandas as pd\n",
    "import numpy as np\n",
    "data=pd.read_csv(\"TripAdvisor_RestauarantRecommendation.csv\")"
   ]
  },
  {
   "cell_type": "code",
   "execution_count": 2,
   "id": "1127ca51",
   "metadata": {},
   "outputs": [
    {
     "data": {
      "text/html": [
       "<div>\n",
       "<style scoped>\n",
       "    .dataframe tbody tr th:only-of-type {\n",
       "        vertical-align: middle;\n",
       "    }\n",
       "\n",
       "    .dataframe tbody tr th {\n",
       "        vertical-align: top;\n",
       "    }\n",
       "\n",
       "    .dataframe thead th {\n",
       "        text-align: right;\n",
       "    }\n",
       "</style>\n",
       "<table border=\"1\" class=\"dataframe\">\n",
       "  <thead>\n",
       "    <tr style=\"text-align: right;\">\n",
       "      <th></th>\n",
       "      <th>Name</th>\n",
       "      <th>Street Address</th>\n",
       "      <th>Location</th>\n",
       "      <th>Type</th>\n",
       "      <th>Reviews</th>\n",
       "      <th>No of Reviews</th>\n",
       "      <th>Comments</th>\n",
       "      <th>Contact Number</th>\n",
       "      <th>Trip_advisor Url</th>\n",
       "      <th>Menu</th>\n",
       "      <th>Price_Range</th>\n",
       "    </tr>\n",
       "  </thead>\n",
       "  <tbody>\n",
       "    <tr>\n",
       "      <th>0</th>\n",
       "      <td>Betty Lou's Seafood and Grill</td>\n",
       "      <td>318 Columbus Ave</td>\n",
       "      <td>San Francisco, CA 94133-3908</td>\n",
       "      <td>Seafood, Vegetarian Friendly, Vegan Options</td>\n",
       "      <td>4.5 of 5 bubbles</td>\n",
       "      <td>243 reviews</td>\n",
       "      <td>NaN</td>\n",
       "      <td>+1 415-757-0569</td>\n",
       "      <td>https://www.tripadvisor.com//Restaurant_Review...</td>\n",
       "      <td>Check The Website for a Menu</td>\n",
       "      <td>$$ - $$$</td>\n",
       "    </tr>\n",
       "    <tr>\n",
       "      <th>1</th>\n",
       "      <td>Coach House Diner</td>\n",
       "      <td>55 State Rt 4</td>\n",
       "      <td>Hackensack, NJ 07601-6337</td>\n",
       "      <td>Diner, American, Vegetarian Friendly</td>\n",
       "      <td>4 of 5 bubbles</td>\n",
       "      <td>84 reviews</td>\n",
       "      <td>Both times we were there very late, after 11 P...</td>\n",
       "      <td>+1 201-488-4999</td>\n",
       "      <td>https://www.tripadvisor.com//Restaurant_Review...</td>\n",
       "      <td>Check The Website for a Menu</td>\n",
       "      <td>$$ - $$$</td>\n",
       "    </tr>\n",
       "    <tr>\n",
       "      <th>2</th>\n",
       "      <td>Table Talk Diner</td>\n",
       "      <td>2521 South Rd Ste C</td>\n",
       "      <td>Poughkeepsie, NY 12601-5476</td>\n",
       "      <td>American, Diner, Vegetarian Friendly</td>\n",
       "      <td>4 of 5 bubbles</td>\n",
       "      <td>256 reviews</td>\n",
       "      <td>Waitress was very friendly but a little pricey...</td>\n",
       "      <td>+1 845-849-2839</td>\n",
       "      <td>https://www.tripadvisor.com//Restaurant_Review...</td>\n",
       "      <td>http://tabletalkdiner.com/menu/breakfast/</td>\n",
       "      <td>$$ - $$$</td>\n",
       "    </tr>\n",
       "    <tr>\n",
       "      <th>3</th>\n",
       "      <td>Sixty Vines</td>\n",
       "      <td>3701 Dallas Pkwy</td>\n",
       "      <td>Plano, TX 75093-7777</td>\n",
       "      <td>American, Wine Bar, Vegetarian Friendly</td>\n",
       "      <td>4.5 of 5 bubbles</td>\n",
       "      <td>235 reviews</td>\n",
       "      <td>Not sure why I went there for the second time....</td>\n",
       "      <td>+1 469-620-8463</td>\n",
       "      <td>https://www.tripadvisor.com//Restaurant_Review...</td>\n",
       "      <td>https://sixtyvines.com/menu/plano-tx/</td>\n",
       "      <td>$$ - $$$</td>\n",
       "    </tr>\n",
       "    <tr>\n",
       "      <th>4</th>\n",
       "      <td>The Clam Bar</td>\n",
       "      <td>3914 Brewerton Rd</td>\n",
       "      <td>Syracuse, NY 13212</td>\n",
       "      <td>American, Bar, Seafood</td>\n",
       "      <td>4 of 5 bubbles</td>\n",
       "      <td>285 reviews</td>\n",
       "      <td>Doesn't look like much from the outside but wa...</td>\n",
       "      <td>+1 315-458-1662</td>\n",
       "      <td>https://www.tripadvisor.com//Restaurant_Review...</td>\n",
       "      <td>Check The Website for a Menu</td>\n",
       "      <td>$$ - $$$</td>\n",
       "    </tr>\n",
       "    <tr>\n",
       "      <th>...</th>\n",
       "      <td>...</td>\n",
       "      <td>...</td>\n",
       "      <td>...</td>\n",
       "      <td>...</td>\n",
       "      <td>...</td>\n",
       "      <td>...</td>\n",
       "      <td>...</td>\n",
       "      <td>...</td>\n",
       "      <td>...</td>\n",
       "      <td>...</td>\n",
       "      <td>...</td>\n",
       "    </tr>\n",
       "    <tr>\n",
       "      <th>3057</th>\n",
       "      <td>Indigo Kitchen &amp; Ale House</td>\n",
       "      <td>2902 164th St SW</td>\n",
       "      <td>Lynnwood, WA 98087-3201</td>\n",
       "      <td>American, Bar, Vegetarian Friendly</td>\n",
       "      <td>4.5 of 5 bubbles</td>\n",
       "      <td>198 reviews</td>\n",
       "      <td>We had to wait a few minutes to get it but it ...</td>\n",
       "      <td>+1 425-741-8770</td>\n",
       "      <td>https://www.tripadvisor.com//Restaurant_Review...</td>\n",
       "      <td>Check The Website for a Menu</td>\n",
       "      <td>$$ - $$$</td>\n",
       "    </tr>\n",
       "    <tr>\n",
       "      <th>3058</th>\n",
       "      <td>City Vineyard</td>\n",
       "      <td>233 West Street</td>\n",
       "      <td>New York City, NY 10013</td>\n",
       "      <td>American, Bar, Seafood</td>\n",
       "      <td>4.5 of 5 bubbles</td>\n",
       "      <td>374 reviews</td>\n",
       "      <td>Came here to see Andrea Gibson perform, we wer...</td>\n",
       "      <td>+1 646-677-8350</td>\n",
       "      <td>https://www.tripadvisor.com//Restaurant_Review...</td>\n",
       "      <td>Check The Website for a Menu</td>\n",
       "      <td>$$ - $$$</td>\n",
       "    </tr>\n",
       "    <tr>\n",
       "      <th>3059</th>\n",
       "      <td>BRIO Tuscan Grille</td>\n",
       "      <td>3710 US Highway 9</td>\n",
       "      <td>Freehold, NJ 07728-4801</td>\n",
       "      <td>Steakhouse, Italian, Bar</td>\n",
       "      <td>4 of 5 bubbles</td>\n",
       "      <td>211 reviews</td>\n",
       "      <td>We come to Brio once a month. They are good fo...</td>\n",
       "      <td>+1 732-683-1045</td>\n",
       "      <td>https://www.tripadvisor.com//Restaurant_Review...</td>\n",
       "      <td>http://www.brioitalian.com/menus.html</td>\n",
       "      <td>$$ - $$$</td>\n",
       "    </tr>\n",
       "    <tr>\n",
       "      <th>3060</th>\n",
       "      <td>Maywood Pancake house</td>\n",
       "      <td>92 W Pleasant Ave</td>\n",
       "      <td>Maywood, NJ 07607-1336</td>\n",
       "      <td>American, Vegan Options, Gluten Free Options</td>\n",
       "      <td>4 of 5 bubbles</td>\n",
       "      <td>87 reviews</td>\n",
       "      <td>Stopped in yesterday for Breakfast. When in Je...</td>\n",
       "      <td>+1 201-880-7842</td>\n",
       "      <td>https://www.tripadvisor.com//Restaurant_Review...</td>\n",
       "      <td>http://www.maywoodpancakehouse.com/menu.html</td>\n",
       "      <td>$$ - $$$</td>\n",
       "    </tr>\n",
       "    <tr>\n",
       "      <th>3061</th>\n",
       "      <td>Porto Leggero</td>\n",
       "      <td>Harborside Financial Center - Plaza 5</td>\n",
       "      <td>Jersey City, NJ 07311</td>\n",
       "      <td>Italian, Vegetarian Friendly, Vegan Options</td>\n",
       "      <td>4.5 of 5 bubbles</td>\n",
       "      <td>183 reviews</td>\n",
       "      <td>First time for dinner. 2 couples. Delicious mu...</td>\n",
       "      <td>+1 201-434-3200</td>\n",
       "      <td>https://www.tripadvisor.com//Restaurant_Review...</td>\n",
       "      <td>Check The Website for a Menu</td>\n",
       "      <td>$$$$</td>\n",
       "    </tr>\n",
       "  </tbody>\n",
       "</table>\n",
       "<p>3062 rows × 11 columns</p>\n",
       "</div>"
      ],
      "text/plain": [
       "                               Name                         Street Address  \\\n",
       "0     Betty Lou's Seafood and Grill                       318 Columbus Ave   \n",
       "1                 Coach House Diner                          55 State Rt 4   \n",
       "2                  Table Talk Diner                    2521 South Rd Ste C   \n",
       "3                       Sixty Vines                       3701 Dallas Pkwy   \n",
       "4                      The Clam Bar                      3914 Brewerton Rd   \n",
       "...                             ...                                    ...   \n",
       "3057     Indigo Kitchen & Ale House                       2902 164th St SW   \n",
       "3058                  City Vineyard                        233 West Street   \n",
       "3059             BRIO Tuscan Grille                      3710 US Highway 9   \n",
       "3060          Maywood Pancake house                      92 W Pleasant Ave   \n",
       "3061                  Porto Leggero  Harborside Financial Center - Plaza 5   \n",
       "\n",
       "                          Location  \\\n",
       "0     San Francisco, CA 94133-3908   \n",
       "1        Hackensack, NJ 07601-6337   \n",
       "2      Poughkeepsie, NY 12601-5476   \n",
       "3             Plano, TX 75093-7777   \n",
       "4               Syracuse, NY 13212   \n",
       "...                            ...   \n",
       "3057       Lynnwood, WA 98087-3201   \n",
       "3058       New York City, NY 10013   \n",
       "3059       Freehold, NJ 07728-4801   \n",
       "3060        Maywood, NJ 07607-1336   \n",
       "3061         Jersey City, NJ 07311   \n",
       "\n",
       "                                               Type           Reviews  \\\n",
       "0       Seafood, Vegetarian Friendly, Vegan Options  4.5 of 5 bubbles   \n",
       "1              Diner, American, Vegetarian Friendly    4 of 5 bubbles   \n",
       "2              American, Diner, Vegetarian Friendly    4 of 5 bubbles   \n",
       "3           American, Wine Bar, Vegetarian Friendly  4.5 of 5 bubbles   \n",
       "4                            American, Bar, Seafood    4 of 5 bubbles   \n",
       "...                                             ...               ...   \n",
       "3057             American, Bar, Vegetarian Friendly  4.5 of 5 bubbles   \n",
       "3058                         American, Bar, Seafood  4.5 of 5 bubbles   \n",
       "3059                       Steakhouse, Italian, Bar    4 of 5 bubbles   \n",
       "3060   American, Vegan Options, Gluten Free Options    4 of 5 bubbles   \n",
       "3061    Italian, Vegetarian Friendly, Vegan Options  4.5 of 5 bubbles   \n",
       "\n",
       "     No of Reviews                                           Comments  \\\n",
       "0      243 reviews                                                NaN   \n",
       "1       84 reviews  Both times we were there very late, after 11 P...   \n",
       "2      256 reviews  Waitress was very friendly but a little pricey...   \n",
       "3      235 reviews  Not sure why I went there for the second time....   \n",
       "4      285 reviews  Doesn't look like much from the outside but wa...   \n",
       "...            ...                                                ...   \n",
       "3057   198 reviews  We had to wait a few minutes to get it but it ...   \n",
       "3058   374 reviews  Came here to see Andrea Gibson perform, we wer...   \n",
       "3059   211 reviews  We come to Brio once a month. They are good fo...   \n",
       "3060    87 reviews  Stopped in yesterday for Breakfast. When in Je...   \n",
       "3061   183 reviews  First time for dinner. 2 couples. Delicious mu...   \n",
       "\n",
       "       Contact Number                                   Trip_advisor Url  \\\n",
       "0     +1 415-757-0569  https://www.tripadvisor.com//Restaurant_Review...   \n",
       "1     +1 201-488-4999  https://www.tripadvisor.com//Restaurant_Review...   \n",
       "2     +1 845-849-2839  https://www.tripadvisor.com//Restaurant_Review...   \n",
       "3     +1 469-620-8463  https://www.tripadvisor.com//Restaurant_Review...   \n",
       "4     +1 315-458-1662  https://www.tripadvisor.com//Restaurant_Review...   \n",
       "...               ...                                                ...   \n",
       "3057  +1 425-741-8770  https://www.tripadvisor.com//Restaurant_Review...   \n",
       "3058  +1 646-677-8350  https://www.tripadvisor.com//Restaurant_Review...   \n",
       "3059  +1 732-683-1045  https://www.tripadvisor.com//Restaurant_Review...   \n",
       "3060  +1 201-880-7842  https://www.tripadvisor.com//Restaurant_Review...   \n",
       "3061  +1 201-434-3200  https://www.tripadvisor.com//Restaurant_Review...   \n",
       "\n",
       "                                              Menu Price_Range  \n",
       "0                     Check The Website for a Menu    $$ - $$$  \n",
       "1                     Check The Website for a Menu    $$ - $$$  \n",
       "2        http://tabletalkdiner.com/menu/breakfast/    $$ - $$$  \n",
       "3            https://sixtyvines.com/menu/plano-tx/    $$ - $$$  \n",
       "4                     Check The Website for a Menu    $$ - $$$  \n",
       "...                                            ...         ...  \n",
       "3057                  Check The Website for a Menu    $$ - $$$  \n",
       "3058                  Check The Website for a Menu    $$ - $$$  \n",
       "3059         http://www.brioitalian.com/menus.html    $$ - $$$  \n",
       "3060  http://www.maywoodpancakehouse.com/menu.html    $$ - $$$  \n",
       "3061                  Check The Website for a Menu        $$$$  \n",
       "\n",
       "[3062 rows x 11 columns]"
      ]
     },
     "execution_count": 2,
     "metadata": {},
     "output_type": "execute_result"
    }
   ],
   "source": [
    "data"
   ]
  },
  {
   "cell_type": "code",
   "execution_count": 3,
   "id": "b9a0653c",
   "metadata": {},
   "outputs": [
    {
     "data": {
      "text/plain": [
       "Index(['Name', 'Street Address', 'Location', 'Type', 'Reviews',\n",
       "       'No of Reviews', 'Comments', 'Contact Number', 'Trip_advisor Url',\n",
       "       'Menu', 'Price_Range'],\n",
       "      dtype='object')"
      ]
     },
     "execution_count": 3,
     "metadata": {},
     "output_type": "execute_result"
    }
   ],
   "source": [
    "data.columns"
   ]
  },
  {
   "cell_type": "code",
   "execution_count": 4,
   "id": "12fb5aa2",
   "metadata": {},
   "outputs": [],
   "source": [
    "data2 = data[[\"Name\",\"Comments\"]]"
   ]
  },
  {
   "cell_type": "code",
   "execution_count": 5,
   "id": "4a69e1cd",
   "metadata": {},
   "outputs": [
    {
     "data": {
      "text/plain": [
       "Name          0\n",
       "Comments    615\n",
       "dtype: int64"
      ]
     },
     "execution_count": 5,
     "metadata": {},
     "output_type": "execute_result"
    }
   ],
   "source": [
    "data2.isna().sum()"
   ]
  },
  {
   "cell_type": "code",
   "execution_count": 6,
   "id": "159d200f",
   "metadata": {},
   "outputs": [
    {
     "name": "stderr",
     "output_type": "stream",
     "text": [
      "/tmp/ipykernel_20641/2261508245.py:1: SettingWithCopyWarning: \n",
      "A value is trying to be set on a copy of a slice from a DataFrame.\n",
      "Try using .loc[row_indexer,col_indexer] = value instead\n",
      "\n",
      "See the caveats in the documentation: https://pandas.pydata.org/pandas-docs/stable/user_guide/indexing.html#returning-a-view-versus-a-copy\n",
      "  data2[\"Comments\"] = data[\"Comments\"].fillna(\"\")\n"
     ]
    }
   ],
   "source": [
    "data2[\"Comments\"] = data[\"Comments\"].fillna(\"\")"
   ]
  },
  {
   "cell_type": "code",
   "execution_count": 8,
   "id": "5c6a8e23",
   "metadata": {},
   "outputs": [
    {
     "data": {
      "text/plain": [
       "(3062, 6245)"
      ]
     },
     "execution_count": 8,
     "metadata": {},
     "output_type": "execute_result"
    }
   ],
   "source": [
    "from sklearn.feature_extraction.text import TfidfVectorizer\n",
    "tfidf = TfidfVectorizer(stop_words=\"english\",max_features=10000 )\n",
    "tfidf_matrix= tfidf.fit_transform(data2[\"Comments\"])\n",
    "tfidf_matrix.shape"
   ]
  },
  {
   "cell_type": "code",
   "execution_count": 9,
   "id": "c1da7280",
   "metadata": {},
   "outputs": [
    {
     "data": {
      "text/plain": [
       "Name\n",
       "Betty Lou's Seafood and Grill       0\n",
       "Coach House Diner                   1\n",
       "Table Talk Diner                    2\n",
       "Sixty Vines                         3\n",
       "The Clam Bar                        4\n",
       "                                 ... \n",
       "Indigo Kitchen & Ale House       3057\n",
       "City Vineyard                    3058\n",
       "BRIO Tuscan Grille               3059\n",
       "Maywood Pancake house            3060\n",
       "Porto Leggero                    3061\n",
       "Length: 3062, dtype: int64"
      ]
     },
     "execution_count": 9,
     "metadata": {},
     "output_type": "execute_result"
    }
   ],
   "source": [
    "from sklearn.metrics.pairwise import linear_kernel\n",
    "cosine_sim = linear_kernel(tfidf_matrix, tfidf_matrix)\n",
    "indices = pd.Series(data2.index,index=data2['Name']).drop_duplicates()\n",
    "indices"
   ]
  },
  {
   "cell_type": "code",
   "execution_count": 10,
   "id": "f14fcdbc",
   "metadata": {},
   "outputs": [
    {
     "data": {
      "text/plain": [
       "1075    Toulouse Cafe and Bar (Dallas)\n",
       "1842                          Lapellah\n",
       "1156               LongHorn Steakhouse\n",
       "2753        Copper Top Tavern Camillus\n",
       "2018               Terra Mediterranean\n",
       "2194                      P.F. Chang's\n",
       "741                Shanghai You Garden\n",
       "744           Gringo's Mexican Kitchen\n",
       "2416                 Logan's Roadhouse\n",
       "1648                        Applebee's\n",
       "Name: Name, dtype: object"
      ]
     },
     "execution_count": 10,
     "metadata": {},
     "output_type": "execute_result"
    }
   ],
   "source": [
    "def res_recommender(Name,cosine_sin=cosine_sim,data=data2,indices=indices):\n",
    "    idx = indices[Name]\n",
    "    sim_score = list(enumerate(cosine_sim[idx]))\n",
    "    sim_score = sorted(sim_score, key=lambda x : x[1], reverse =True)\n",
    "    sim_score = sim_score[1:11]\n",
    "    restuarent_indices = [i[0] for i in sim_score]\n",
    "    return data[\"Name\"].iloc[restuarent_indices]\n",
    "res_recommender(\"The Clam Bar\")"
   ]
  },
  {
   "cell_type": "code",
   "execution_count": null,
   "id": "67577045",
   "metadata": {},
   "outputs": [],
   "source": []
  }
 ],
 "metadata": {
  "kernelspec": {
   "display_name": "Python 3 (ipykernel)",
   "language": "python",
   "name": "python3"
  },
  "language_info": {
   "codemirror_mode": {
    "name": "ipython",
    "version": 3
   },
   "file_extension": ".py",
   "mimetype": "text/x-python",
   "name": "python",
   "nbconvert_exporter": "python",
   "pygments_lexer": "ipython3",
   "version": "3.10.9"
  }
 },
 "nbformat": 4,
 "nbformat_minor": 5
}
