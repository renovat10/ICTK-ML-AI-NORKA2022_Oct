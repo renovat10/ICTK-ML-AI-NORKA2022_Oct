{
 "cells": [
  {
   "cell_type": "code",
   "execution_count": 1,
   "id": "104c9f16",
   "metadata": {
    "_cell_guid": "b1076dfc-b9ad-4769-8c92-a6c4dae69d19",
    "_uuid": "8f2839f25d086af736a60e9eeb907d3b93b6e0e5",
    "execution": {
     "iopub.execute_input": "2022-12-08T11:17:33.624872Z",
     "iopub.status.busy": "2022-12-08T11:17:33.624250Z",
     "iopub.status.idle": "2022-12-08T11:17:33.646381Z",
     "shell.execute_reply": "2022-12-08T11:17:33.645193Z"
    },
    "papermill": {
     "duration": 0.0336,
     "end_time": "2022-12-08T11:17:33.649252",
     "exception": false,
     "start_time": "2022-12-08T11:17:33.615652",
     "status": "completed"
    },
    "tags": []
   },
   "outputs": [
    {
     "name": "stdout",
     "output_type": "stream",
     "text": [
      "/kaggle/input/nci60-cancer/NCI60.csv\n"
     ]
    }
   ],
   "source": [
    "# This Python 3 environment comes with many helpful analytics libraries installed\n",
    "# It is defined by the kaggle/python Docker image: https://github.com/kaggle/docker-python\n",
    "# For example, here's several helpful packages to load\n",
    "\n",
    "import numpy as np # linear algebra\n",
    "import pandas as pd # data processing, CSV file I/O (e.g. pd.read_csv)\n",
    "\n",
    "# Input data files are available in the read-only \"../input/\" directory\n",
    "# For example, running this (by clicking run or pressing Shift+Enter) will list all files under the input directory\n",
    "\n",
    "import os\n",
    "for dirname, _, filenames in os.walk('/kaggle/input'):\n",
    "    for filename in filenames:\n",
    "        print(os.path.join(dirname, filename))\n",
    "\n",
    "# You can write up to 20GB to the current directory (/kaggle/working/) that gets preserved as output when you create a version using \"Save & Run All\" \n",
    "# You can also write temporary files to /kaggle/temp/, but they won't be saved outside of the current session"
   ]
  },
  {
   "cell_type": "code",
   "execution_count": 2,
   "id": "0c123bc5",
   "metadata": {
    "execution": {
     "iopub.execute_input": "2022-12-08T11:17:33.663027Z",
     "iopub.status.busy": "2022-12-08T11:17:33.662626Z",
     "iopub.status.idle": "2022-12-08T11:17:34.037185Z",
     "shell.execute_reply": "2022-12-08T11:17:34.035931Z"
    },
    "papermill": {
     "duration": 0.384115,
     "end_time": "2022-12-08T11:17:34.039934",
     "exception": false,
     "start_time": "2022-12-08T11:17:33.655819",
     "status": "completed"
    },
    "tags": []
   },
   "outputs": [],
   "source": [
    "df = pd.read_csv(\"/kaggle/input/nci60-cancer/NCI60.csv\")"
   ]
  },
  {
   "cell_type": "code",
   "execution_count": 3,
   "id": "a4e44522",
   "metadata": {
    "execution": {
     "iopub.execute_input": "2022-12-08T11:17:34.055604Z",
     "iopub.status.busy": "2022-12-08T11:17:34.055117Z",
     "iopub.status.idle": "2022-12-08T11:17:34.099348Z",
     "shell.execute_reply": "2022-12-08T11:17:34.098182Z"
    },
    "papermill": {
     "duration": 0.053998,
     "end_time": "2022-12-08T11:17:34.101947",
     "exception": false,
     "start_time": "2022-12-08T11:17:34.047949",
     "status": "completed"
    },
    "tags": []
   },
   "outputs": [
    {
     "data": {
      "text/html": [
       "<div>\n",
       "<style scoped>\n",
       "    .dataframe tbody tr th:only-of-type {\n",
       "        vertical-align: middle;\n",
       "    }\n",
       "\n",
       "    .dataframe tbody tr th {\n",
       "        vertical-align: top;\n",
       "    }\n",
       "\n",
       "    .dataframe thead th {\n",
       "        text-align: right;\n",
       "    }\n",
       "</style>\n",
       "<table border=\"1\" class=\"dataframe\">\n",
       "  <thead>\n",
       "    <tr style=\"text-align: right;\">\n",
       "      <th></th>\n",
       "      <th>Unnamed: 0</th>\n",
       "      <th>1</th>\n",
       "      <th>2</th>\n",
       "      <th>3</th>\n",
       "      <th>4</th>\n",
       "      <th>5</th>\n",
       "      <th>6</th>\n",
       "      <th>7</th>\n",
       "      <th>8</th>\n",
       "      <th>9</th>\n",
       "      <th>...</th>\n",
       "      <th>6821</th>\n",
       "      <th>6822</th>\n",
       "      <th>6823</th>\n",
       "      <th>6824</th>\n",
       "      <th>6825</th>\n",
       "      <th>6826</th>\n",
       "      <th>6827</th>\n",
       "      <th>6828</th>\n",
       "      <th>6829</th>\n",
       "      <th>6830</th>\n",
       "    </tr>\n",
       "  </thead>\n",
       "  <tbody>\n",
       "    <tr>\n",
       "      <th>0</th>\n",
       "      <td>V1</td>\n",
       "      <td>0.300000</td>\n",
       "      <td>1.180000</td>\n",
       "      <td>0.550000</td>\n",
       "      <td>1.140000</td>\n",
       "      <td>-0.265000</td>\n",
       "      <td>-7.000000e-02</td>\n",
       "      <td>0.350000</td>\n",
       "      <td>-0.315000</td>\n",
       "      <td>-0.450000</td>\n",
       "      <td>...</td>\n",
       "      <td>-0.990020</td>\n",
       "      <td>0.000000</td>\n",
       "      <td>0.030000</td>\n",
       "      <td>-0.175000</td>\n",
       "      <td>0.629981</td>\n",
       "      <td>-0.030000</td>\n",
       "      <td>0.000000</td>\n",
       "      <td>0.280000</td>\n",
       "      <td>-0.340000</td>\n",
       "      <td>-1.930000</td>\n",
       "    </tr>\n",
       "    <tr>\n",
       "      <th>1</th>\n",
       "      <td>V2</td>\n",
       "      <td>0.679961</td>\n",
       "      <td>1.289961</td>\n",
       "      <td>0.169961</td>\n",
       "      <td>0.379961</td>\n",
       "      <td>0.464961</td>\n",
       "      <td>5.799610e-01</td>\n",
       "      <td>0.699961</td>\n",
       "      <td>0.724961</td>\n",
       "      <td>-0.040039</td>\n",
       "      <td>...</td>\n",
       "      <td>-0.270058</td>\n",
       "      <td>-0.300039</td>\n",
       "      <td>-0.250039</td>\n",
       "      <td>-0.535039</td>\n",
       "      <td>0.109941</td>\n",
       "      <td>-0.860039</td>\n",
       "      <td>-1.250049</td>\n",
       "      <td>-0.770039</td>\n",
       "      <td>-0.390039</td>\n",
       "      <td>-2.000039</td>\n",
       "    </tr>\n",
       "    <tr>\n",
       "      <th>2</th>\n",
       "      <td>V3</td>\n",
       "      <td>0.940000</td>\n",
       "      <td>-0.040000</td>\n",
       "      <td>-0.170000</td>\n",
       "      <td>-0.040000</td>\n",
       "      <td>-0.605000</td>\n",
       "      <td>0.000000e+00</td>\n",
       "      <td>0.090000</td>\n",
       "      <td>0.645000</td>\n",
       "      <td>0.430000</td>\n",
       "      <td>...</td>\n",
       "      <td>0.319981</td>\n",
       "      <td>0.120000</td>\n",
       "      <td>-0.740000</td>\n",
       "      <td>-0.595000</td>\n",
       "      <td>-0.270020</td>\n",
       "      <td>-0.150000</td>\n",
       "      <td>0.000000</td>\n",
       "      <td>-0.120000</td>\n",
       "      <td>-0.410000</td>\n",
       "      <td>0.000000</td>\n",
       "    </tr>\n",
       "    <tr>\n",
       "      <th>3</th>\n",
       "      <td>V4</td>\n",
       "      <td>0.280000</td>\n",
       "      <td>-0.310000</td>\n",
       "      <td>0.680000</td>\n",
       "      <td>-0.810000</td>\n",
       "      <td>0.625000</td>\n",
       "      <td>-1.387779e-17</td>\n",
       "      <td>0.170000</td>\n",
       "      <td>0.245000</td>\n",
       "      <td>0.020000</td>\n",
       "      <td>...</td>\n",
       "      <td>-1.240020</td>\n",
       "      <td>-0.110000</td>\n",
       "      <td>-0.160000</td>\n",
       "      <td>0.095000</td>\n",
       "      <td>-0.350019</td>\n",
       "      <td>-0.300000</td>\n",
       "      <td>-1.150010</td>\n",
       "      <td>1.090000</td>\n",
       "      <td>-0.260000</td>\n",
       "      <td>-1.100000</td>\n",
       "    </tr>\n",
       "    <tr>\n",
       "      <th>4</th>\n",
       "      <td>V5</td>\n",
       "      <td>0.485000</td>\n",
       "      <td>-0.465000</td>\n",
       "      <td>0.395000</td>\n",
       "      <td>0.905000</td>\n",
       "      <td>0.200000</td>\n",
       "      <td>-5.000000e-03</td>\n",
       "      <td>0.085000</td>\n",
       "      <td>0.110000</td>\n",
       "      <td>0.235000</td>\n",
       "      <td>...</td>\n",
       "      <td>0.554980</td>\n",
       "      <td>-0.775000</td>\n",
       "      <td>-0.515000</td>\n",
       "      <td>-0.320000</td>\n",
       "      <td>0.634980</td>\n",
       "      <td>0.605000</td>\n",
       "      <td>0.000000</td>\n",
       "      <td>0.745000</td>\n",
       "      <td>0.425000</td>\n",
       "      <td>0.145000</td>\n",
       "    </tr>\n",
       "  </tbody>\n",
       "</table>\n",
       "<p>5 rows × 6831 columns</p>\n",
       "</div>"
      ],
      "text/plain": [
       "  Unnamed: 0         1         2         3         4         5             6  \\\n",
       "0         V1  0.300000  1.180000  0.550000  1.140000 -0.265000 -7.000000e-02   \n",
       "1         V2  0.679961  1.289961  0.169961  0.379961  0.464961  5.799610e-01   \n",
       "2         V3  0.940000 -0.040000 -0.170000 -0.040000 -0.605000  0.000000e+00   \n",
       "3         V4  0.280000 -0.310000  0.680000 -0.810000  0.625000 -1.387779e-17   \n",
       "4         V5  0.485000 -0.465000  0.395000  0.905000  0.200000 -5.000000e-03   \n",
       "\n",
       "          7         8         9  ...      6821      6822      6823      6824  \\\n",
       "0  0.350000 -0.315000 -0.450000  ... -0.990020  0.000000  0.030000 -0.175000   \n",
       "1  0.699961  0.724961 -0.040039  ... -0.270058 -0.300039 -0.250039 -0.535039   \n",
       "2  0.090000  0.645000  0.430000  ...  0.319981  0.120000 -0.740000 -0.595000   \n",
       "3  0.170000  0.245000  0.020000  ... -1.240020 -0.110000 -0.160000  0.095000   \n",
       "4  0.085000  0.110000  0.235000  ...  0.554980 -0.775000 -0.515000 -0.320000   \n",
       "\n",
       "       6825      6826      6827      6828      6829      6830  \n",
       "0  0.629981 -0.030000  0.000000  0.280000 -0.340000 -1.930000  \n",
       "1  0.109941 -0.860039 -1.250049 -0.770039 -0.390039 -2.000039  \n",
       "2 -0.270020 -0.150000  0.000000 -0.120000 -0.410000  0.000000  \n",
       "3 -0.350019 -0.300000 -1.150010  1.090000 -0.260000 -1.100000  \n",
       "4  0.634980  0.605000  0.000000  0.745000  0.425000  0.145000  \n",
       "\n",
       "[5 rows x 6831 columns]"
      ]
     },
     "execution_count": 3,
     "metadata": {},
     "output_type": "execute_result"
    }
   ],
   "source": [
    "df.head()"
   ]
  },
  {
   "cell_type": "code",
   "execution_count": 4,
   "id": "d7e58351",
   "metadata": {
    "execution": {
     "iopub.execute_input": "2022-12-08T11:17:34.115526Z",
     "iopub.status.busy": "2022-12-08T11:17:34.115100Z",
     "iopub.status.idle": "2022-12-08T11:17:34.144806Z",
     "shell.execute_reply": "2022-12-08T11:17:34.143481Z"
    },
    "papermill": {
     "duration": 0.039633,
     "end_time": "2022-12-08T11:17:34.147665",
     "exception": false,
     "start_time": "2022-12-08T11:17:34.108032",
     "status": "completed"
    },
    "tags": []
   },
   "outputs": [
    {
     "data": {
      "text/html": [
       "<div>\n",
       "<style scoped>\n",
       "    .dataframe tbody tr th:only-of-type {\n",
       "        vertical-align: middle;\n",
       "    }\n",
       "\n",
       "    .dataframe tbody tr th {\n",
       "        vertical-align: top;\n",
       "    }\n",
       "\n",
       "    .dataframe thead th {\n",
       "        text-align: right;\n",
       "    }\n",
       "</style>\n",
       "<table border=\"1\" class=\"dataframe\">\n",
       "  <thead>\n",
       "    <tr style=\"text-align: right;\">\n",
       "      <th></th>\n",
       "      <th>Unnamed: 0</th>\n",
       "      <th>1</th>\n",
       "      <th>2</th>\n",
       "      <th>3</th>\n",
       "      <th>4</th>\n",
       "      <th>5</th>\n",
       "      <th>6</th>\n",
       "      <th>7</th>\n",
       "      <th>8</th>\n",
       "      <th>9</th>\n",
       "      <th>...</th>\n",
       "      <th>6821</th>\n",
       "      <th>6822</th>\n",
       "      <th>6823</th>\n",
       "      <th>6824</th>\n",
       "      <th>6825</th>\n",
       "      <th>6826</th>\n",
       "      <th>6827</th>\n",
       "      <th>6828</th>\n",
       "      <th>6829</th>\n",
       "      <th>6830</th>\n",
       "    </tr>\n",
       "  </thead>\n",
       "  <tbody>\n",
       "    <tr>\n",
       "      <th>59</th>\n",
       "      <td>V60</td>\n",
       "      <td>-0.03</td>\n",
       "      <td>-0.48</td>\n",
       "      <td>0.07</td>\n",
       "      <td>-0.70</td>\n",
       "      <td>-0.195</td>\n",
       "      <td>4.100000e-01</td>\n",
       "      <td>-0.24</td>\n",
       "      <td>0.105</td>\n",
       "      <td>-0.41</td>\n",
       "      <td>...</td>\n",
       "      <td>-0.400019</td>\n",
       "      <td>0.15</td>\n",
       "      <td>-0.43</td>\n",
       "      <td>0.145</td>\n",
       "      <td>-0.090020</td>\n",
       "      <td>-0.02</td>\n",
       "      <td>-1.39001</td>\n",
       "      <td>-1.15</td>\n",
       "      <td>0.29</td>\n",
       "      <td>1.19</td>\n",
       "    </tr>\n",
       "    <tr>\n",
       "      <th>60</th>\n",
       "      <td>V61</td>\n",
       "      <td>-0.27</td>\n",
       "      <td>0.63</td>\n",
       "      <td>-0.10</td>\n",
       "      <td>1.10</td>\n",
       "      <td>1.045</td>\n",
       "      <td>8.000000e-02</td>\n",
       "      <td>-0.09</td>\n",
       "      <td>-0.675</td>\n",
       "      <td>-0.31</td>\n",
       "      <td>...</td>\n",
       "      <td>-0.560020</td>\n",
       "      <td>0.20</td>\n",
       "      <td>0.29</td>\n",
       "      <td>-0.035</td>\n",
       "      <td>0.279981</td>\n",
       "      <td>-0.16</td>\n",
       "      <td>-0.02001</td>\n",
       "      <td>-0.64</td>\n",
       "      <td>-0.37</td>\n",
       "      <td>-0.43</td>\n",
       "    </tr>\n",
       "    <tr>\n",
       "      <th>61</th>\n",
       "      <td>V62</td>\n",
       "      <td>0.21</td>\n",
       "      <td>-0.62</td>\n",
       "      <td>-0.15</td>\n",
       "      <td>-1.33</td>\n",
       "      <td>0.045</td>\n",
       "      <td>-4.000000e-01</td>\n",
       "      <td>-0.39</td>\n",
       "      <td>-0.675</td>\n",
       "      <td>-0.36</td>\n",
       "      <td>...</td>\n",
       "      <td>-0.160020</td>\n",
       "      <td>-0.12</td>\n",
       "      <td>0.85</td>\n",
       "      <td>-0.125</td>\n",
       "      <td>0.779980</td>\n",
       "      <td>0.39</td>\n",
       "      <td>0.00000</td>\n",
       "      <td>0.16</td>\n",
       "      <td>2.03</td>\n",
       "      <td>3.94</td>\n",
       "    </tr>\n",
       "    <tr>\n",
       "      <th>62</th>\n",
       "      <td>V63</td>\n",
       "      <td>-0.05</td>\n",
       "      <td>0.14</td>\n",
       "      <td>-0.09</td>\n",
       "      <td>-1.26</td>\n",
       "      <td>0.045</td>\n",
       "      <td>-2.710505e-20</td>\n",
       "      <td>0.42</td>\n",
       "      <td>-0.305</td>\n",
       "      <td>0.31</td>\n",
       "      <td>...</td>\n",
       "      <td>0.889980</td>\n",
       "      <td>-0.42</td>\n",
       "      <td>-0.46</td>\n",
       "      <td>-0.855</td>\n",
       "      <td>-0.160020</td>\n",
       "      <td>-0.35</td>\n",
       "      <td>-0.36001</td>\n",
       "      <td>-0.49</td>\n",
       "      <td>0.01</td>\n",
       "      <td>-1.72</td>\n",
       "    </tr>\n",
       "    <tr>\n",
       "      <th>63</th>\n",
       "      <td>V64</td>\n",
       "      <td>0.35</td>\n",
       "      <td>-0.27</td>\n",
       "      <td>0.02</td>\n",
       "      <td>-1.23</td>\n",
       "      <td>-0.715</td>\n",
       "      <td>-3.400000e-01</td>\n",
       "      <td>-0.52</td>\n",
       "      <td>0.475</td>\n",
       "      <td>0.23</td>\n",
       "      <td>...</td>\n",
       "      <td>1.629980</td>\n",
       "      <td>3.00</td>\n",
       "      <td>2.86</td>\n",
       "      <td>2.145</td>\n",
       "      <td>0.869981</td>\n",
       "      <td>0.48</td>\n",
       "      <td>0.96999</td>\n",
       "      <td>0.29</td>\n",
       "      <td>-0.15</td>\n",
       "      <td>1.21</td>\n",
       "    </tr>\n",
       "  </tbody>\n",
       "</table>\n",
       "<p>5 rows × 6831 columns</p>\n",
       "</div>"
      ],
      "text/plain": [
       "   Unnamed: 0     1     2     3     4      5             6     7      8     9  \\\n",
       "59        V60 -0.03 -0.48  0.07 -0.70 -0.195  4.100000e-01 -0.24  0.105 -0.41   \n",
       "60        V61 -0.27  0.63 -0.10  1.10  1.045  8.000000e-02 -0.09 -0.675 -0.31   \n",
       "61        V62  0.21 -0.62 -0.15 -1.33  0.045 -4.000000e-01 -0.39 -0.675 -0.36   \n",
       "62        V63 -0.05  0.14 -0.09 -1.26  0.045 -2.710505e-20  0.42 -0.305  0.31   \n",
       "63        V64  0.35 -0.27  0.02 -1.23 -0.715 -3.400000e-01 -0.52  0.475  0.23   \n",
       "\n",
       "    ...      6821  6822  6823   6824      6825  6826     6827  6828  6829  \\\n",
       "59  ... -0.400019  0.15 -0.43  0.145 -0.090020 -0.02 -1.39001 -1.15  0.29   \n",
       "60  ... -0.560020  0.20  0.29 -0.035  0.279981 -0.16 -0.02001 -0.64 -0.37   \n",
       "61  ... -0.160020 -0.12  0.85 -0.125  0.779980  0.39  0.00000  0.16  2.03   \n",
       "62  ...  0.889980 -0.42 -0.46 -0.855 -0.160020 -0.35 -0.36001 -0.49  0.01   \n",
       "63  ...  1.629980  3.00  2.86  2.145  0.869981  0.48  0.96999  0.29 -0.15   \n",
       "\n",
       "    6830  \n",
       "59  1.19  \n",
       "60 -0.43  \n",
       "61  3.94  \n",
       "62 -1.72  \n",
       "63  1.21  \n",
       "\n",
       "[5 rows x 6831 columns]"
      ]
     },
     "execution_count": 4,
     "metadata": {},
     "output_type": "execute_result"
    }
   ],
   "source": [
    "df.tail()"
   ]
  },
  {
   "cell_type": "code",
   "execution_count": 5,
   "id": "3d6691da",
   "metadata": {
    "execution": {
     "iopub.execute_input": "2022-12-08T11:17:34.162150Z",
     "iopub.status.busy": "2022-12-08T11:17:34.161339Z",
     "iopub.status.idle": "2022-12-08T11:17:34.175581Z",
     "shell.execute_reply": "2022-12-08T11:17:34.174479Z"
    },
    "papermill": {
     "duration": 0.024261,
     "end_time": "2022-12-08T11:17:34.178300",
     "exception": false,
     "start_time": "2022-12-08T11:17:34.154039",
     "status": "completed"
    },
    "tags": []
   },
   "outputs": [],
   "source": [
    "first_col = df.columns[0]\n",
    "df.drop([first_col], axis=1, inplace=True)"
   ]
  },
  {
   "cell_type": "code",
   "execution_count": 6,
   "id": "83225b56",
   "metadata": {
    "execution": {
     "iopub.execute_input": "2022-12-08T11:17:34.192872Z",
     "iopub.status.busy": "2022-12-08T11:17:34.192029Z",
     "iopub.status.idle": "2022-12-08T11:17:35.732350Z",
     "shell.execute_reply": "2022-12-08T11:17:35.731186Z"
    },
    "papermill": {
     "duration": 1.550305,
     "end_time": "2022-12-08T11:17:35.734758",
     "exception": false,
     "start_time": "2022-12-08T11:17:34.184453",
     "status": "completed"
    },
    "tags": []
   },
   "outputs": [
    {
     "data": {
      "image/png": "[encoded data removed]",
      "text/plain": [
       "<Figure size 720x360 with 1 Axes>"
      ]
     },
     "metadata": {
      "needs_background": "light"
     },
     "output_type": "display_data"
    }
   ],
   "source": [
    "import matplotlib.pyplot as plt\n",
    "from scipy.cluster.hierarchy import linkage, dendrogram, fcluster\n",
    "mergings = linkage(df, method = \"complete\")\n",
    "plt.figure(figsize=(10,5))\n",
    "dendrogram(mergings)\n",
    "plt.show()"
   ]
  },
  {
   "cell_type": "code",
   "execution_count": 7,
   "id": "3f4cad82",
   "metadata": {
    "execution": {
     "iopub.execute_input": "2022-12-08T11:17:35.749746Z",
     "iopub.status.busy": "2022-12-08T11:17:35.748927Z",
     "iopub.status.idle": "2022-12-08T11:17:35.758605Z",
     "shell.execute_reply": "2022-12-08T11:17:35.757588Z"
    },
    "papermill": {
     "duration": 0.019957,
     "end_time": "2022-12-08T11:17:35.761234",
     "exception": false,
     "start_time": "2022-12-08T11:17:35.741277",
     "status": "completed"
    },
    "tags": []
   },
   "outputs": [
    {
     "data": {
      "text/plain": [
       "array([20, 20, 26, 10, 10, 21, 22, 21, 26, 11, 24, 24, 24, 24, 24, 24, 24,\n",
       "       18, 19, 17, 16, 16, 26, 26, 23, 23, 25, 25, 26, 26, 25, 25, 27,  7,\n",
       "        6,  6,  6,  8,  5,  5,  9,  2,  2,  2,  2,  2,  3,  4,  1,  1,  1,\n",
       "        1, 25, 12, 13, 15, 14, 14, 14, 14, 14, 14, 14, 14], dtype=int32)"
      ]
     },
     "execution_count": 7,
     "metadata": {},
     "output_type": "execute_result"
    }
   ],
   "source": [
    "#Taking clusters at distance 80\n",
    "labels = fcluster(mergings, 80, criterion='distance')\n",
    "labels"
   ]
  },
  {
   "cell_type": "code",
   "execution_count": 8,
   "id": "05a95e1a",
   "metadata": {
    "execution": {
     "iopub.execute_input": "2022-12-08T11:17:35.777389Z",
     "iopub.status.busy": "2022-12-08T11:17:35.776972Z",
     "iopub.status.idle": "2022-12-08T11:17:35.793535Z",
     "shell.execute_reply": "2022-12-08T11:17:35.792202Z"
    },
    "papermill": {
     "duration": 0.02884,
     "end_time": "2022-12-08T11:17:35.796444",
     "exception": false,
     "start_time": "2022-12-08T11:17:35.767604",
     "status": "completed"
    },
    "tags": []
   },
   "outputs": [
    {
     "data": {
      "text/plain": [
       "27"
      ]
     },
     "execution_count": 8,
     "metadata": {},
     "output_type": "execute_result"
    }
   ],
   "source": [
    "df['hclusters_nopca'] = labels\n",
    "df['hclusters_nopca'].nunique()"
   ]
  },
  {
   "cell_type": "code",
   "execution_count": 9,
   "id": "4ad161b6",
   "metadata": {
    "execution": {
     "iopub.execute_input": "2022-12-08T11:17:35.812220Z",
     "iopub.status.busy": "2022-12-08T11:17:35.811073Z",
     "iopub.status.idle": "2022-12-08T11:17:35.816214Z",
     "shell.execute_reply": "2022-12-08T11:17:35.815200Z"
    },
    "papermill": {
     "duration": 0.015327,
     "end_time": "2022-12-08T11:17:35.818543",
     "exception": false,
     "start_time": "2022-12-08T11:17:35.803216",
     "status": "completed"
    },
    "tags": []
   },
   "outputs": [],
   "source": [
    "#We get 27 different clusters by applying Hierrarchichal clustering without PCA and \n",
    "#threshold 80"
   ]
  },
  {
   "cell_type": "code",
   "execution_count": 10,
   "id": "545ebcba",
   "metadata": {
    "execution": {
     "iopub.execute_input": "2022-12-08T11:17:35.833480Z",
     "iopub.status.busy": "2022-12-08T11:17:35.832823Z",
     "iopub.status.idle": "2022-12-08T11:17:37.046334Z",
     "shell.execute_reply": "2022-12-08T11:17:37.044653Z"
    },
    "papermill": {
     "duration": 1.225626,
     "end_time": "2022-12-08T11:17:37.050789",
     "exception": false,
     "start_time": "2022-12-08T11:17:35.825163",
     "status": "completed"
    },
    "tags": []
   },
   "outputs": [],
   "source": [
    "from sklearn.decomposition import PCA\n",
    "pca = PCA(n_components=50)\n",
    "df_decomposed = pca.fit_transform(df)"
   ]
  },
  {
   "cell_type": "code",
   "execution_count": 11,
   "id": "51a4ec47",
   "metadata": {
    "execution": {
     "iopub.execute_input": "2022-12-08T11:17:37.122616Z",
     "iopub.status.busy": "2022-12-08T11:17:37.121883Z",
     "iopub.status.idle": "2022-12-08T11:17:37.131216Z",
     "shell.execute_reply": "2022-12-08T11:17:37.130013Z"
    },
    "papermill": {
     "duration": 0.056522,
     "end_time": "2022-12-08T11:17:37.135368",
     "exception": false,
     "start_time": "2022-12-08T11:17:37.078846",
     "status": "completed"
    },
    "tags": []
   },
   "outputs": [],
   "source": [
    "pca50_df = pd.DataFrame(df_decomposed,columns=['PC'+str(i) for i in range(1,51)])"
   ]
  },
  {
   "cell_type": "code",
   "execution_count": 12,
   "id": "825fa4a0",
   "metadata": {
    "execution": {
     "iopub.execute_input": "2022-12-08T11:17:37.163513Z",
     "iopub.status.busy": "2022-12-08T11:17:37.163075Z",
     "iopub.status.idle": "2022-12-08T11:17:37.169954Z",
     "shell.execute_reply": "2022-12-08T11:17:37.169136Z"
    },
    "papermill": {
     "duration": 0.016965,
     "end_time": "2022-12-08T11:17:37.171948",
     "exception": false,
     "start_time": "2022-12-08T11:17:37.154983",
     "status": "completed"
    },
    "tags": []
   },
   "outputs": [
    {
     "data": {
      "text/plain": [
       "(64, 50)"
      ]
     },
     "execution_count": 12,
     "metadata": {},
     "output_type": "execute_result"
    }
   ],
   "source": [
    "pca50_df.shape"
   ]
  },
  {
   "cell_type": "code",
   "execution_count": 13,
   "id": "e0f8115f",
   "metadata": {
    "execution": {
     "iopub.execute_input": "2022-12-08T11:17:37.187844Z",
     "iopub.status.busy": "2022-12-08T11:17:37.186736Z",
     "iopub.status.idle": "2022-12-08T11:17:37.191078Z",
     "shell.execute_reply": "2022-12-08T11:17:37.190278Z"
    },
    "papermill": {
     "duration": 0.01446,
     "end_time": "2022-12-08T11:17:37.193196",
     "exception": false,
     "start_time": "2022-12-08T11:17:37.178736",
     "status": "completed"
    },
    "tags": []
   },
   "outputs": [],
   "source": [
    "#We have obtained 50 features using PCA"
   ]
  },
  {
   "cell_type": "code",
   "execution_count": 14,
   "id": "4e48d05e",
   "metadata": {
    "execution": {
     "iopub.execute_input": "2022-12-08T11:17:37.208919Z",
     "iopub.status.busy": "2022-12-08T11:17:37.208161Z",
     "iopub.status.idle": "2022-12-08T11:17:37.214237Z",
     "shell.execute_reply": "2022-12-08T11:17:37.213439Z"
    },
    "papermill": {
     "duration": 0.016268,
     "end_time": "2022-12-08T11:17:37.216321",
     "exception": false,
     "start_time": "2022-12-08T11:17:37.200053",
     "status": "completed"
    },
    "tags": []
   },
   "outputs": [
    {
     "data": {
      "text/plain": [
       "95.19708446240347"
      ]
     },
     "execution_count": 14,
     "metadata": {},
     "output_type": "execute_result"
    }
   ],
   "source": [
    "sum(pca.explained_variance_ratio_*100)"
   ]
  },
  {
   "cell_type": "code",
   "execution_count": 15,
   "id": "b37ca96f",
   "metadata": {
    "execution": {
     "iopub.execute_input": "2022-12-08T11:17:37.232789Z",
     "iopub.status.busy": "2022-12-08T11:17:37.232045Z",
     "iopub.status.idle": "2022-12-08T11:17:37.235909Z",
     "shell.execute_reply": "2022-12-08T11:17:37.235159Z"
    },
    "papermill": {
     "duration": 0.014407,
     "end_time": "2022-12-08T11:17:37.238053",
     "exception": false,
     "start_time": "2022-12-08T11:17:37.223646",
     "status": "completed"
    },
    "tags": []
   },
   "outputs": [],
   "source": [
    "#These 50 features contain 95% of the information in original dataset"
   ]
  },
  {
   "cell_type": "code",
   "execution_count": 16,
   "id": "0575fc37",
   "metadata": {
    "execution": {
     "iopub.execute_input": "2022-12-08T11:17:37.253667Z",
     "iopub.status.busy": "2022-12-08T11:17:37.253241Z",
     "iopub.status.idle": "2022-12-08T11:17:38.507064Z",
     "shell.execute_reply": "2022-12-08T11:17:38.505906Z"
    },
    "papermill": {
     "duration": 1.264563,
     "end_time": "2022-12-08T11:17:38.509603",
     "exception": false,
     "start_time": "2022-12-08T11:17:37.245040",
     "status": "completed"
    },
    "tags": []
   },
   "outputs": [
    {
     "data": {
      "image/png": "[encoded data removed]",
      "text/plain": [
       "<Figure size 720x360 with 1 Axes>"
      ]
     },
     "metadata": {
      "needs_background": "light"
     },
     "output_type": "display_data"
    }
   ],
   "source": [
    "pca50_mergings = linkage(pca50_df, method = \"complete\")\n",
    "plt.figure(figsize=(10,5))\n",
    "dendrogram(pca50_mergings)\n",
    "plt.show()"
   ]
  },
  {
   "cell_type": "code",
   "execution_count": 17,
   "id": "d0c00ee7",
   "metadata": {
    "execution": {
     "iopub.execute_input": "2022-12-08T11:17:38.525900Z",
     "iopub.status.busy": "2022-12-08T11:17:38.525458Z",
     "iopub.status.idle": "2022-12-08T11:17:38.533451Z",
     "shell.execute_reply": "2022-12-08T11:17:38.532356Z"
    },
    "papermill": {
     "duration": 0.018786,
     "end_time": "2022-12-08T11:17:38.535631",
     "exception": false,
     "start_time": "2022-12-08T11:17:38.516845",
     "status": "completed"
    },
    "tags": []
   },
   "outputs": [
    {
     "data": {
      "text/plain": [
       "array([22, 22, 22, 10, 10, 21, 22, 21, 22, 11, 12, 12, 12, 12, 12, 12, 12,\n",
       "       19, 20, 18, 17, 17, 13, 13, 15, 15, 16, 16, 16, 16, 16, 16, 14,  7,\n",
       "        6,  6,  6,  8,  5,  5,  9,  2,  2,  2,  2,  2,  3,  4,  1,  1,  1,\n",
       "        1, 16, 23, 23, 25, 24, 24, 24, 24, 24, 24, 24, 24], dtype=int32)"
      ]
     },
     "execution_count": 17,
     "metadata": {},
     "output_type": "execute_result"
    }
   ],
   "source": [
    "pca50_labels = fcluster(pca50_mergings, 80, criterion='distance')\n",
    "pca50_labels"
   ]
  },
  {
   "cell_type": "code",
   "execution_count": 18,
   "id": "30bb3dd2",
   "metadata": {
    "execution": {
     "iopub.execute_input": "2022-12-08T11:17:38.552076Z",
     "iopub.status.busy": "2022-12-08T11:17:38.551682Z",
     "iopub.status.idle": "2022-12-08T11:17:38.558753Z",
     "shell.execute_reply": "2022-12-08T11:17:38.557911Z"
    },
    "papermill": {
     "duration": 0.018053,
     "end_time": "2022-12-08T11:17:38.561066",
     "exception": false,
     "start_time": "2022-12-08T11:17:38.543013",
     "status": "completed"
    },
    "tags": []
   },
   "outputs": [
    {
     "data": {
      "text/plain": [
       "25"
      ]
     },
     "execution_count": 18,
     "metadata": {},
     "output_type": "execute_result"
    }
   ],
   "source": [
    "pca50_df['hclusters_pca50'] = pca50_labels\n",
    "pca50_df['hclusters_pca50'].nunique()"
   ]
  },
  {
   "cell_type": "code",
   "execution_count": 19,
   "id": "2eb3a92b",
   "metadata": {
    "execution": {
     "iopub.execute_input": "2022-12-08T11:17:38.578244Z",
     "iopub.status.busy": "2022-12-08T11:17:38.577494Z",
     "iopub.status.idle": "2022-12-08T11:17:38.581893Z",
     "shell.execute_reply": "2022-12-08T11:17:38.580655Z"
    },
    "papermill": {
     "duration": 0.015617,
     "end_time": "2022-12-08T11:17:38.584370",
     "exception": false,
     "start_time": "2022-12-08T11:17:38.568753",
     "status": "completed"
    },
    "tags": []
   },
   "outputs": [],
   "source": [
    "#Here we can see that after PCA, we have reduced number of clusters to 25. Morover, from the \n",
    "#Dendrogram, it is clear that after PCA we can obtain higher level of clustering at lower\n",
    "#thresholds itself"
   ]
  },
  {
   "cell_type": "code",
   "execution_count": 20,
   "id": "a802b679",
   "metadata": {
    "execution": {
     "iopub.execute_input": "2022-12-08T11:17:38.602459Z",
     "iopub.status.busy": "2022-12-08T11:17:38.602075Z",
     "iopub.status.idle": "2022-12-08T11:17:38.612719Z",
     "shell.execute_reply": "2022-12-08T11:17:38.611181Z"
    },
    "papermill": {
     "duration": 0.023218,
     "end_time": "2022-12-08T11:17:38.615140",
     "exception": false,
     "start_time": "2022-12-08T11:17:38.591922",
     "status": "completed"
    },
    "tags": []
   },
   "outputs": [
    {
     "name": "stdout",
     "output_type": "stream",
     "text": [
      "No. of clusters Without PCA(th : 60): 55\n",
      "No. of clusters With PCA(th : 60): 49\n"
     ]
    }
   ],
   "source": [
    "pca50_labels_threshold60 = fcluster(pca50_mergings, 60, criterion='distance')\n",
    "labels_threshold60 = fcluster(mergings, 60, criterion='distance')\n",
    "df['hclusters_nopca_th60'] = labels_threshold60\n",
    "nx = df['hclusters_nopca_th60'].nunique()\n",
    "print(f'No. of clusters Without PCA(th : 60): {nx}')\n",
    "pca50_df['hclusters_pca50_th60'] = pca50_labels_threshold60\n",
    "ny = pca50_df['hclusters_pca50_th60'].nunique()\n",
    "print(f'No. of clusters With PCA(th : 60): {ny}')"
   ]
  },
  {
   "cell_type": "code",
   "execution_count": null,
   "id": "a21bb1e7",
   "metadata": {
    "papermill": {
     "duration": 0.007216,
     "end_time": "2022-12-08T11:17:38.630074",
     "exception": false,
     "start_time": "2022-12-08T11:17:38.622858",
     "status": "completed"
    },
    "tags": []
   },
   "outputs": [],
   "source": []
  }
 ],
 "metadata": {
  "kernelspec": {
   "display_name": "Python 3",
   "language": "python",
   "name": "python3"
  },
  "language_info": {
   "codemirror_mode": {
    "name": "ipython",
    "version": 3
   },
   "file_extension": ".py",
   "mimetype": "text/x-python",
   "name": "python",
   "nbconvert_exporter": "python",
   "pygments_lexer": "ipython3",
   "version": "3.7.12"
  },
  "papermill": {
   "default_parameters": {},
   "duration": 14.219565,
   "end_time": "2022-12-08T11:17:39.358027",
   "environment_variables": {},
   "exception": null,
   "input_path": "__notebook__.ipynb",
   "output_path": "__notebook__.ipynb",
   "parameters": {},
   "start_time": "2022-12-08T11:17:25.138462",
   "version": "2.3.4"
  }
 },
 "nbformat": 4,
 "nbformat_minor": 5
}
