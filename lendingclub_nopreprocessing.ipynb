{
 "cells": [
  {
   "cell_type": "code",
   "execution_count": 1,
   "id": "8485679c",
   "metadata": {
    "_cell_guid": "b1076dfc-b9ad-4769-8c92-a6c4dae69d19",
    "_uuid": "8f2839f25d086af736a60e9eeb907d3b93b6e0e5",
    "execution": {
     "iopub.execute_input": "2022-12-02T09:46:37.502983Z",
     "iopub.status.busy": "2022-12-02T09:46:37.502219Z",
     "iopub.status.idle": "2022-12-02T09:46:37.524297Z",
     "shell.execute_reply": "2022-12-02T09:46:37.523110Z"
    },
    "papermill": {
     "duration": 0.032632,
     "end_time": "2022-12-02T09:46:37.526954",
     "exception": false,
     "start_time": "2022-12-02T09:46:37.494322",
     "status": "completed"
    },
    "tags": []
   },
   "outputs": [
    {
     "name": "stdout",
     "output_type": "stream",
     "text": [
      "/kaggle/input/lending-club-dataset/loan.csv\n",
      "/kaggle/input/lending-club-dataset/Data_Dictionary.xlsx\n"
     ]
    }
   ],
   "source": [
    "# This Python 3 environment comes with many helpful analytics libraries installed\n",
    "# It is defined by the kaggle/python Docker image: https://github.com/kaggle/docker-python\n",
    "# For example, here's several helpful packages to load\n",
    "\n",
    "import numpy as np # linear algebra\n",
    "import pandas as pd # data processing, CSV file I/O (e.g. pd.read_csv)\n",
    "\n",
    "# Input data files are available in the read-only \"../input/\" directory\n",
    "# For example, running this (by clicking run or pressing Shift+Enter) will list all files under the input directory\n",
    "\n",
    "import os\n",
    "for dirname, _, filenames in os.walk('/kaggle/input'):\n",
    "    for filename in filenames:\n",
    "        print(os.path.join(dirname, filename))\n",
    "\n",
    "# You can write up to 20GB to the current directory (/kaggle/working/) that gets preserved as output when you create a version using \"Save & Run All\" \n",
    "# You can also write temporary files to /kaggle/temp/, but they won't be saved outside of the current session"
   ]
  },
  {
   "cell_type": "code",
   "execution_count": 2,
   "id": "90ee0051",
   "metadata": {
    "execution": {
     "iopub.execute_input": "2022-12-02T09:46:37.535641Z",
     "iopub.status.busy": "2022-12-02T09:46:37.534893Z",
     "iopub.status.idle": "2022-12-02T09:46:38.604040Z",
     "shell.execute_reply": "2022-12-02T09:46:38.602649Z"
    },
    "papermill": {
     "duration": 1.076699,
     "end_time": "2022-12-02T09:46:38.607279",
     "exception": false,
     "start_time": "2022-12-02T09:46:37.530580",
     "status": "completed"
    },
    "tags": []
   },
   "outputs": [
    {
     "name": "stdout",
     "output_type": "stream",
     "text": [
      "<class 'pandas.core.frame.DataFrame'>\n",
      "RangeIndex: 39717 entries, 0 to 39716\n",
      "Columns: 111 entries, id to total_il_high_credit_limit\n",
      "dtypes: float64(74), int64(13), object(24)\n",
      "memory usage: 33.6+ MB\n"
     ]
    },
    {
     "name": "stderr",
     "output_type": "stream",
     "text": [
      "/opt/conda/lib/python3.7/site-packages/IPython/core/interactiveshell.py:3552: DtypeWarning: Columns (47) have mixed types.Specify dtype option on import or set low_memory=False.\n",
      "  exec(code_obj, self.user_global_ns, self.user_ns)\n"
     ]
    }
   ],
   "source": [
    "loan = pd.read_csv(\"/kaggle/input/lending-club-dataset/loan.csv\")\n",
    "loan.info()"
   ]
  },
  {
   "cell_type": "code",
   "execution_count": 3,
   "id": "fa7752fd",
   "metadata": {
    "execution": {
     "iopub.execute_input": "2022-12-02T09:46:38.617178Z",
     "iopub.status.busy": "2022-12-02T09:46:38.616871Z",
     "iopub.status.idle": "2022-12-02T09:46:38.682727Z",
     "shell.execute_reply": "2022-12-02T09:46:38.681655Z"
    },
    "papermill": {
     "duration": 0.073803,
     "end_time": "2022-12-02T09:46:38.685833",
     "exception": false,
     "start_time": "2022-12-02T09:46:38.612030",
     "status": "completed"
    },
    "tags": []
   },
   "outputs": [
    {
     "name": "stdout",
     "output_type": "stream",
     "text": [
      "Shape before dropping columns with nulls > 10% \t:\t(39717, 111)\n",
      "Number of Columns with nulls > 50% \t:\t58\n",
      "Shape after dropping columns with nulls > 50% \t:\t(39717, 53)\n"
     ]
    }
   ],
   "source": [
    "print(f\"Shape before dropping columns with nulls > 10% \\t:\\t{loan.shape}\")\n",
    "null_50_cols = loan.columns[loan.isna().sum()/len(loan.index) *100 > 10]\n",
    "print(f\"Number of Columns with nulls > 50% \\t:\\t{len(null_50_cols)}\")\n",
    "#Dropping Columns with nulls > 50%\n",
    "loan.drop(null_50_cols, axis =1, inplace=True)\n",
    "print(f\"Shape after dropping columns with nulls > 50% \\t:\\t{loan.shape}\")"
   ]
  },
  {
   "cell_type": "code",
   "execution_count": 4,
   "id": "f119ab37",
   "metadata": {
    "execution": {
     "iopub.execute_input": "2022-12-02T09:46:38.694854Z",
     "iopub.status.busy": "2022-12-02T09:46:38.694520Z",
     "iopub.status.idle": "2022-12-02T09:46:38.836133Z",
     "shell.execute_reply": "2022-12-02T09:46:38.834941Z"
    },
    "papermill": {
     "duration": 0.149254,
     "end_time": "2022-12-02T09:46:38.839437",
     "exception": false,
     "start_time": "2022-12-02T09:46:38.690183",
     "status": "completed"
    },
    "tags": []
   },
   "outputs": [
    {
     "name": "stdout",
     "output_type": "stream",
     "text": [
      "Columns with only one value \t:\t ['pymnt_plan', 'initial_list_status', 'collections_12_mths_ex_med', 'policy_code', 'application_type', 'acc_now_delinq', 'chargeoff_within_12_mths', 'delinq_amnt', 'tax_liens']\n"
     ]
    }
   ],
   "source": [
    "#Columns with only one value in them\n",
    "single_value_columns = []\n",
    "for i in loan.columns:\n",
    "    if loan[i].dropna().nunique() == 1:\n",
    "        single_value_columns.append(i)\n",
    "print(f'Columns with only one value \\t:\\t {single_value_columns}')"
   ]
  },
  {
   "cell_type": "code",
   "execution_count": 5,
   "id": "f14d9688",
   "metadata": {
    "execution": {
     "iopub.execute_input": "2022-12-02T09:46:38.849499Z",
     "iopub.status.busy": "2022-12-02T09:46:38.849195Z",
     "iopub.status.idle": "2022-12-02T09:46:38.865693Z",
     "shell.execute_reply": "2022-12-02T09:46:38.864381Z"
    },
    "papermill": {
     "duration": 0.024247,
     "end_time": "2022-12-02T09:46:38.868366",
     "exception": false,
     "start_time": "2022-12-02T09:46:38.844119",
     "status": "completed"
    },
    "tags": []
   },
   "outputs": [
    {
     "name": "stdout",
     "output_type": "stream",
     "text": [
      "Shape before dropping columns with only one value \t:\t(39717, 53)\n",
      "Number of Columns with only one value \t:\t9\n",
      "Shape after dropping columns only one value \t:\t(39717, 44)\n"
     ]
    }
   ],
   "source": [
    "print(f\"Shape before dropping columns with only one value \\t:\\t{loan.shape}\")\n",
    "print(f\"Number of Columns with only one value \\t:\\t{len(single_value_columns)}\")\n",
    "loan.drop(single_value_columns, axis =1, inplace=True)\n",
    "print(f\"Shape after dropping columns only one value \\t:\\t{loan.shape}\")"
   ]
  },
  {
   "cell_type": "code",
   "execution_count": 6,
   "id": "6594e9df",
   "metadata": {
    "execution": {
     "iopub.execute_input": "2022-12-02T09:46:38.877317Z",
     "iopub.status.busy": "2022-12-02T09:46:38.877040Z",
     "iopub.status.idle": "2022-12-02T09:46:38.992451Z",
     "shell.execute_reply": "2022-12-02T09:46:38.991379Z"
    },
    "papermill": {
     "duration": 0.122765,
     "end_time": "2022-12-02T09:46:38.995222",
     "exception": false,
     "start_time": "2022-12-02T09:46:38.872457",
     "status": "completed"
    },
    "tags": []
   },
   "outputs": [
    {
     "data": {
      "text/plain": [
       "0"
      ]
     },
     "execution_count": 6,
     "metadata": {},
     "output_type": "execute_result"
    }
   ],
   "source": [
    "#Number of Duplicated Rows\n",
    "loan.duplicated().sum()"
   ]
  },
  {
   "cell_type": "code",
   "execution_count": 7,
   "id": "480ed581",
   "metadata": {
    "execution": {
     "iopub.execute_input": "2022-12-02T09:46:39.005609Z",
     "iopub.status.busy": "2022-12-02T09:46:39.003953Z",
     "iopub.status.idle": "2022-12-02T09:46:39.030687Z",
     "shell.execute_reply": "2022-12-02T09:46:39.029758Z"
    },
    "papermill": {
     "duration": 0.03365,
     "end_time": "2022-12-02T09:46:39.032680",
     "exception": false,
     "start_time": "2022-12-02T09:46:38.999030",
     "status": "completed"
    },
    "tags": []
   },
   "outputs": [
    {
     "data": {
      "text/html": [
       "<div>\n",
       "<style scoped>\n",
       "    .dataframe tbody tr th:only-of-type {\n",
       "        vertical-align: middle;\n",
       "    }\n",
       "\n",
       "    .dataframe tbody tr th {\n",
       "        vertical-align: top;\n",
       "    }\n",
       "\n",
       "    .dataframe thead th {\n",
       "        text-align: right;\n",
       "    }\n",
       "</style>\n",
       "<table border=\"1\" class=\"dataframe\">\n",
       "  <thead>\n",
       "    <tr style=\"text-align: right;\">\n",
       "      <th></th>\n",
       "      <th>id</th>\n",
       "      <th>member_id</th>\n",
       "      <th>loan_amnt</th>\n",
       "      <th>funded_amnt</th>\n",
       "      <th>funded_amnt_inv</th>\n",
       "      <th>term</th>\n",
       "      <th>int_rate</th>\n",
       "      <th>installment</th>\n",
       "      <th>grade</th>\n",
       "      <th>sub_grade</th>\n",
       "    </tr>\n",
       "  </thead>\n",
       "  <tbody>\n",
       "    <tr>\n",
       "      <th>0</th>\n",
       "      <td>1077501</td>\n",
       "      <td>1296599</td>\n",
       "      <td>5000</td>\n",
       "      <td>5000</td>\n",
       "      <td>4975.0</td>\n",
       "      <td>36 months</td>\n",
       "      <td>10.65%</td>\n",
       "      <td>162.87</td>\n",
       "      <td>B</td>\n",
       "      <td>B2</td>\n",
       "    </tr>\n",
       "    <tr>\n",
       "      <th>1</th>\n",
       "      <td>1077430</td>\n",
       "      <td>1314167</td>\n",
       "      <td>2500</td>\n",
       "      <td>2500</td>\n",
       "      <td>2500.0</td>\n",
       "      <td>60 months</td>\n",
       "      <td>15.27%</td>\n",
       "      <td>59.83</td>\n",
       "      <td>C</td>\n",
       "      <td>C4</td>\n",
       "    </tr>\n",
       "    <tr>\n",
       "      <th>2</th>\n",
       "      <td>1077175</td>\n",
       "      <td>1313524</td>\n",
       "      <td>2400</td>\n",
       "      <td>2400</td>\n",
       "      <td>2400.0</td>\n",
       "      <td>36 months</td>\n",
       "      <td>15.96%</td>\n",
       "      <td>84.33</td>\n",
       "      <td>C</td>\n",
       "      <td>C5</td>\n",
       "    </tr>\n",
       "    <tr>\n",
       "      <th>3</th>\n",
       "      <td>1076863</td>\n",
       "      <td>1277178</td>\n",
       "      <td>10000</td>\n",
       "      <td>10000</td>\n",
       "      <td>10000.0</td>\n",
       "      <td>36 months</td>\n",
       "      <td>13.49%</td>\n",
       "      <td>339.31</td>\n",
       "      <td>C</td>\n",
       "      <td>C1</td>\n",
       "    </tr>\n",
       "    <tr>\n",
       "      <th>4</th>\n",
       "      <td>1075358</td>\n",
       "      <td>1311748</td>\n",
       "      <td>3000</td>\n",
       "      <td>3000</td>\n",
       "      <td>3000.0</td>\n",
       "      <td>60 months</td>\n",
       "      <td>12.69%</td>\n",
       "      <td>67.79</td>\n",
       "      <td>B</td>\n",
       "      <td>B5</td>\n",
       "    </tr>\n",
       "    <tr>\n",
       "      <th>...</th>\n",
       "      <td>...</td>\n",
       "      <td>...</td>\n",
       "      <td>...</td>\n",
       "      <td>...</td>\n",
       "      <td>...</td>\n",
       "      <td>...</td>\n",
       "      <td>...</td>\n",
       "      <td>...</td>\n",
       "      <td>...</td>\n",
       "      <td>...</td>\n",
       "    </tr>\n",
       "    <tr>\n",
       "      <th>39712</th>\n",
       "      <td>92187</td>\n",
       "      <td>92174</td>\n",
       "      <td>2500</td>\n",
       "      <td>2500</td>\n",
       "      <td>1075.0</td>\n",
       "      <td>36 months</td>\n",
       "      <td>8.07%</td>\n",
       "      <td>78.42</td>\n",
       "      <td>A</td>\n",
       "      <td>A4</td>\n",
       "    </tr>\n",
       "    <tr>\n",
       "      <th>39713</th>\n",
       "      <td>90665</td>\n",
       "      <td>90607</td>\n",
       "      <td>8500</td>\n",
       "      <td>8500</td>\n",
       "      <td>875.0</td>\n",
       "      <td>36 months</td>\n",
       "      <td>10.28%</td>\n",
       "      <td>275.38</td>\n",
       "      <td>C</td>\n",
       "      <td>C1</td>\n",
       "    </tr>\n",
       "    <tr>\n",
       "      <th>39714</th>\n",
       "      <td>90395</td>\n",
       "      <td>90390</td>\n",
       "      <td>5000</td>\n",
       "      <td>5000</td>\n",
       "      <td>1325.0</td>\n",
       "      <td>36 months</td>\n",
       "      <td>8.07%</td>\n",
       "      <td>156.84</td>\n",
       "      <td>A</td>\n",
       "      <td>A4</td>\n",
       "    </tr>\n",
       "    <tr>\n",
       "      <th>39715</th>\n",
       "      <td>90376</td>\n",
       "      <td>89243</td>\n",
       "      <td>5000</td>\n",
       "      <td>5000</td>\n",
       "      <td>650.0</td>\n",
       "      <td>36 months</td>\n",
       "      <td>7.43%</td>\n",
       "      <td>155.38</td>\n",
       "      <td>A</td>\n",
       "      <td>A2</td>\n",
       "    </tr>\n",
       "    <tr>\n",
       "      <th>39716</th>\n",
       "      <td>87023</td>\n",
       "      <td>86999</td>\n",
       "      <td>7500</td>\n",
       "      <td>7500</td>\n",
       "      <td>800.0</td>\n",
       "      <td>36 months</td>\n",
       "      <td>13.75%</td>\n",
       "      <td>255.43</td>\n",
       "      <td>E</td>\n",
       "      <td>E2</td>\n",
       "    </tr>\n",
       "  </tbody>\n",
       "</table>\n",
       "<p>39717 rows × 10 columns</p>\n",
       "</div>"
      ],
      "text/plain": [
       "            id  member_id  loan_amnt  funded_amnt  funded_amnt_inv  \\\n",
       "0      1077501    1296599       5000         5000           4975.0   \n",
       "1      1077430    1314167       2500         2500           2500.0   \n",
       "2      1077175    1313524       2400         2400           2400.0   \n",
       "3      1076863    1277178      10000        10000          10000.0   \n",
       "4      1075358    1311748       3000         3000           3000.0   \n",
       "...        ...        ...        ...          ...              ...   \n",
       "39712    92187      92174       2500         2500           1075.0   \n",
       "39713    90665      90607       8500         8500            875.0   \n",
       "39714    90395      90390       5000         5000           1325.0   \n",
       "39715    90376      89243       5000         5000            650.0   \n",
       "39716    87023      86999       7500         7500            800.0   \n",
       "\n",
       "             term int_rate  installment grade sub_grade  \n",
       "0       36 months   10.65%       162.87     B        B2  \n",
       "1       60 months   15.27%        59.83     C        C4  \n",
       "2       36 months   15.96%        84.33     C        C5  \n",
       "3       36 months   13.49%       339.31     C        C1  \n",
       "4       60 months   12.69%        67.79     B        B5  \n",
       "...           ...      ...          ...   ...       ...  \n",
       "39712   36 months    8.07%        78.42     A        A4  \n",
       "39713   36 months   10.28%       275.38     C        C1  \n",
       "39714   36 months    8.07%       156.84     A        A4  \n",
       "39715   36 months    7.43%       155.38     A        A2  \n",
       "39716   36 months   13.75%       255.43     E        E2  \n",
       "\n",
       "[39717 rows x 10 columns]"
      ]
     },
     "execution_count": 7,
     "metadata": {},
     "output_type": "execute_result"
    }
   ],
   "source": [
    "loan.iloc[:,:10]"
   ]
  },
  {
   "cell_type": "code",
   "execution_count": 8,
   "id": "d0c45c9f",
   "metadata": {
    "execution": {
     "iopub.execute_input": "2022-12-02T09:46:39.044079Z",
     "iopub.status.busy": "2022-12-02T09:46:39.042387Z",
     "iopub.status.idle": "2022-12-02T09:46:39.047429Z",
     "shell.execute_reply": "2022-12-02T09:46:39.046476Z"
    },
    "papermill": {
     "duration": 0.012352,
     "end_time": "2022-12-02T09:46:39.049577",
     "exception": false,
     "start_time": "2022-12-02T09:46:39.037225",
     "status": "completed"
    },
    "tags": []
   },
   "outputs": [],
   "source": [
    "#Of these 10 columns, id and member_id are not relevant for prediction. Term and int_rate need to be\n",
    "#Formatted and changed into int/float. grade should be dropped since sub grade makes it redundant. sub_grade\n",
    "#Should be encoded"
   ]
  },
  {
   "cell_type": "code",
   "execution_count": 9,
   "id": "50fe70e2",
   "metadata": {
    "execution": {
     "iopub.execute_input": "2022-12-02T09:46:39.060862Z",
     "iopub.status.busy": "2022-12-02T09:46:39.059265Z",
     "iopub.status.idle": "2022-12-02T09:46:39.075519Z",
     "shell.execute_reply": "2022-12-02T09:46:39.074499Z"
    },
    "papermill": {
     "duration": 0.024131,
     "end_time": "2022-12-02T09:46:39.078153",
     "exception": false,
     "start_time": "2022-12-02T09:46:39.054022",
     "status": "completed"
    },
    "tags": []
   },
   "outputs": [
    {
     "name": "stdout",
     "output_type": "stream",
     "text": [
      "Shape before dropping grade \t:\t(39717, 44)\n",
      "Shape after dropping grade \t:\t(39717, 43)\n"
     ]
    }
   ],
   "source": [
    "print(f\"Shape before dropping grade \\t:\\t{loan.shape}\")\n",
    "loan.drop(['grade'], axis = 1, inplace = True)\n",
    "print(f\"Shape after dropping grade \\t:\\t{loan.shape}\")"
   ]
  },
  {
   "cell_type": "code",
   "execution_count": 10,
   "id": "938ddd08",
   "metadata": {
    "execution": {
     "iopub.execute_input": "2022-12-02T09:46:39.088111Z",
     "iopub.status.busy": "2022-12-02T09:46:39.087576Z",
     "iopub.status.idle": "2022-12-02T09:46:39.114578Z",
     "shell.execute_reply": "2022-12-02T09:46:39.113772Z"
    },
    "papermill": {
     "duration": 0.033849,
     "end_time": "2022-12-02T09:46:39.116606",
     "exception": false,
     "start_time": "2022-12-02T09:46:39.082757",
     "status": "completed"
    },
    "tags": []
   },
   "outputs": [],
   "source": [
    "#Formatting int_rate\n",
    "loan['int_rate'] = loan['int_rate'].str.replace(\"%\",\"\").astype(float)"
   ]
  },
  {
   "cell_type": "code",
   "execution_count": 11,
   "id": "3575a2b3",
   "metadata": {
    "execution": {
     "iopub.execute_input": "2022-12-02T09:46:39.125509Z",
     "iopub.status.busy": "2022-12-02T09:46:39.125254Z",
     "iopub.status.idle": "2022-12-02T09:46:39.194260Z",
     "shell.execute_reply": "2022-12-02T09:46:39.193400Z"
    },
    "papermill": {
     "duration": 0.075794,
     "end_time": "2022-12-02T09:46:39.196326",
     "exception": false,
     "start_time": "2022-12-02T09:46:39.120532",
     "status": "completed"
    },
    "tags": []
   },
   "outputs": [],
   "source": [
    "import re\n",
    "loan['term'] = loan['term'].apply(lambda x:re.findall('\\d+',x)[0]).astype(int)"
   ]
  },
  {
   "cell_type": "code",
   "execution_count": 12,
   "id": "112d9c1f",
   "metadata": {
    "execution": {
     "iopub.execute_input": "2022-12-02T09:46:39.206264Z",
     "iopub.status.busy": "2022-12-02T09:46:39.205955Z",
     "iopub.status.idle": "2022-12-02T09:46:40.121096Z",
     "shell.execute_reply": "2022-12-02T09:46:40.120075Z"
    },
    "papermill": {
     "duration": 0.923086,
     "end_time": "2022-12-02T09:46:40.123649",
     "exception": false,
     "start_time": "2022-12-02T09:46:39.200563",
     "status": "completed"
    },
    "tags": []
   },
   "outputs": [],
   "source": [
    "from sklearn.preprocessing import LabelEncoder\n",
    "le = LabelEncoder()\n",
    "loan['sub_grade'] = le.fit_transform(loan['sub_grade'])"
   ]
  },
  {
   "cell_type": "code",
   "execution_count": 13,
   "id": "d6361922",
   "metadata": {
    "execution": {
     "iopub.execute_input": "2022-12-02T09:46:40.134342Z",
     "iopub.status.busy": "2022-12-02T09:46:40.133385Z",
     "iopub.status.idle": "2022-12-02T09:46:40.155489Z",
     "shell.execute_reply": "2022-12-02T09:46:40.154320Z"
    },
    "papermill": {
     "duration": 0.030018,
     "end_time": "2022-12-02T09:46:40.158169",
     "exception": false,
     "start_time": "2022-12-02T09:46:40.128151",
     "status": "completed"
    },
    "tags": []
   },
   "outputs": [
    {
     "data": {
      "text/html": [
       "<div>\n",
       "<style scoped>\n",
       "    .dataframe tbody tr th:only-of-type {\n",
       "        vertical-align: middle;\n",
       "    }\n",
       "\n",
       "    .dataframe tbody tr th {\n",
       "        vertical-align: top;\n",
       "    }\n",
       "\n",
       "    .dataframe thead th {\n",
       "        text-align: right;\n",
       "    }\n",
       "</style>\n",
       "<table border=\"1\" class=\"dataframe\">\n",
       "  <thead>\n",
       "    <tr style=\"text-align: right;\">\n",
       "      <th></th>\n",
       "      <th>id</th>\n",
       "      <th>member_id</th>\n",
       "      <th>loan_amnt</th>\n",
       "      <th>funded_amnt</th>\n",
       "      <th>funded_amnt_inv</th>\n",
       "      <th>term</th>\n",
       "      <th>int_rate</th>\n",
       "      <th>installment</th>\n",
       "      <th>sub_grade</th>\n",
       "      <th>emp_title</th>\n",
       "    </tr>\n",
       "  </thead>\n",
       "  <tbody>\n",
       "    <tr>\n",
       "      <th>0</th>\n",
       "      <td>1077501</td>\n",
       "      <td>1296599</td>\n",
       "      <td>5000</td>\n",
       "      <td>5000</td>\n",
       "      <td>4975.0</td>\n",
       "      <td>36</td>\n",
       "      <td>10.65</td>\n",
       "      <td>162.87</td>\n",
       "      <td>6</td>\n",
       "      <td>NaN</td>\n",
       "    </tr>\n",
       "    <tr>\n",
       "      <th>1</th>\n",
       "      <td>1077430</td>\n",
       "      <td>1314167</td>\n",
       "      <td>2500</td>\n",
       "      <td>2500</td>\n",
       "      <td>2500.0</td>\n",
       "      <td>60</td>\n",
       "      <td>15.27</td>\n",
       "      <td>59.83</td>\n",
       "      <td>13</td>\n",
       "      <td>Ryder</td>\n",
       "    </tr>\n",
       "    <tr>\n",
       "      <th>2</th>\n",
       "      <td>1077175</td>\n",
       "      <td>1313524</td>\n",
       "      <td>2400</td>\n",
       "      <td>2400</td>\n",
       "      <td>2400.0</td>\n",
       "      <td>36</td>\n",
       "      <td>15.96</td>\n",
       "      <td>84.33</td>\n",
       "      <td>14</td>\n",
       "      <td>NaN</td>\n",
       "    </tr>\n",
       "    <tr>\n",
       "      <th>3</th>\n",
       "      <td>1076863</td>\n",
       "      <td>1277178</td>\n",
       "      <td>10000</td>\n",
       "      <td>10000</td>\n",
       "      <td>10000.0</td>\n",
       "      <td>36</td>\n",
       "      <td>13.49</td>\n",
       "      <td>339.31</td>\n",
       "      <td>10</td>\n",
       "      <td>AIR RESOURCES BOARD</td>\n",
       "    </tr>\n",
       "    <tr>\n",
       "      <th>4</th>\n",
       "      <td>1075358</td>\n",
       "      <td>1311748</td>\n",
       "      <td>3000</td>\n",
       "      <td>3000</td>\n",
       "      <td>3000.0</td>\n",
       "      <td>60</td>\n",
       "      <td>12.69</td>\n",
       "      <td>67.79</td>\n",
       "      <td>9</td>\n",
       "      <td>University Medical Group</td>\n",
       "    </tr>\n",
       "    <tr>\n",
       "      <th>...</th>\n",
       "      <td>...</td>\n",
       "      <td>...</td>\n",
       "      <td>...</td>\n",
       "      <td>...</td>\n",
       "      <td>...</td>\n",
       "      <td>...</td>\n",
       "      <td>...</td>\n",
       "      <td>...</td>\n",
       "      <td>...</td>\n",
       "      <td>...</td>\n",
       "    </tr>\n",
       "    <tr>\n",
       "      <th>39712</th>\n",
       "      <td>92187</td>\n",
       "      <td>92174</td>\n",
       "      <td>2500</td>\n",
       "      <td>2500</td>\n",
       "      <td>1075.0</td>\n",
       "      <td>36</td>\n",
       "      <td>8.07</td>\n",
       "      <td>78.42</td>\n",
       "      <td>3</td>\n",
       "      <td>FiSite Research</td>\n",
       "    </tr>\n",
       "    <tr>\n",
       "      <th>39713</th>\n",
       "      <td>90665</td>\n",
       "      <td>90607</td>\n",
       "      <td>8500</td>\n",
       "      <td>8500</td>\n",
       "      <td>875.0</td>\n",
       "      <td>36</td>\n",
       "      <td>10.28</td>\n",
       "      <td>275.38</td>\n",
       "      <td>10</td>\n",
       "      <td>Squarewave Solutions, Ltd.</td>\n",
       "    </tr>\n",
       "    <tr>\n",
       "      <th>39714</th>\n",
       "      <td>90395</td>\n",
       "      <td>90390</td>\n",
       "      <td>5000</td>\n",
       "      <td>5000</td>\n",
       "      <td>1325.0</td>\n",
       "      <td>36</td>\n",
       "      <td>8.07</td>\n",
       "      <td>156.84</td>\n",
       "      <td>3</td>\n",
       "      <td>NaN</td>\n",
       "    </tr>\n",
       "    <tr>\n",
       "      <th>39715</th>\n",
       "      <td>90376</td>\n",
       "      <td>89243</td>\n",
       "      <td>5000</td>\n",
       "      <td>5000</td>\n",
       "      <td>650.0</td>\n",
       "      <td>36</td>\n",
       "      <td>7.43</td>\n",
       "      <td>155.38</td>\n",
       "      <td>1</td>\n",
       "      <td>NaN</td>\n",
       "    </tr>\n",
       "    <tr>\n",
       "      <th>39716</th>\n",
       "      <td>87023</td>\n",
       "      <td>86999</td>\n",
       "      <td>7500</td>\n",
       "      <td>7500</td>\n",
       "      <td>800.0</td>\n",
       "      <td>36</td>\n",
       "      <td>13.75</td>\n",
       "      <td>255.43</td>\n",
       "      <td>21</td>\n",
       "      <td>Evergreen Center</td>\n",
       "    </tr>\n",
       "  </tbody>\n",
       "</table>\n",
       "<p>39717 rows × 10 columns</p>\n",
       "</div>"
      ],
      "text/plain": [
       "            id  member_id  loan_amnt  funded_amnt  funded_amnt_inv  term  \\\n",
       "0      1077501    1296599       5000         5000           4975.0    36   \n",
       "1      1077430    1314167       2500         2500           2500.0    60   \n",
       "2      1077175    1313524       2400         2400           2400.0    36   \n",
       "3      1076863    1277178      10000        10000          10000.0    36   \n",
       "4      1075358    1311748       3000         3000           3000.0    60   \n",
       "...        ...        ...        ...          ...              ...   ...   \n",
       "39712    92187      92174       2500         2500           1075.0    36   \n",
       "39713    90665      90607       8500         8500            875.0    36   \n",
       "39714    90395      90390       5000         5000           1325.0    36   \n",
       "39715    90376      89243       5000         5000            650.0    36   \n",
       "39716    87023      86999       7500         7500            800.0    36   \n",
       "\n",
       "       int_rate  installment  sub_grade                   emp_title  \n",
       "0         10.65       162.87          6                         NaN  \n",
       "1         15.27        59.83         13                       Ryder  \n",
       "2         15.96        84.33         14                         NaN  \n",
       "3         13.49       339.31         10         AIR RESOURCES BOARD  \n",
       "4         12.69        67.79          9    University Medical Group  \n",
       "...         ...          ...        ...                         ...  \n",
       "39712      8.07        78.42          3             FiSite Research  \n",
       "39713     10.28       275.38         10  Squarewave Solutions, Ltd.  \n",
       "39714      8.07       156.84          3                         NaN  \n",
       "39715      7.43       155.38          1                         NaN  \n",
       "39716     13.75       255.43         21            Evergreen Center  \n",
       "\n",
       "[39717 rows x 10 columns]"
      ]
     },
     "execution_count": 13,
     "metadata": {},
     "output_type": "execute_result"
    }
   ],
   "source": [
    "loan.iloc[:,0:10]"
   ]
  },
  {
   "cell_type": "code",
   "execution_count": null,
   "id": "c2238792",
   "metadata": {
    "papermill": {
     "duration": 0.004394,
     "end_time": "2022-12-02T09:46:40.167593",
     "exception": false,
     "start_time": "2022-12-02T09:46:40.163199",
     "status": "completed"
    },
    "tags": []
   },
   "outputs": [],
   "source": []
  }
 ],
 "metadata": {
  "kernelspec": {
   "display_name": "Python 3",
   "language": "python",
   "name": "python3"
  },
  "language_info": {
   "codemirror_mode": {
    "name": "ipython",
    "version": 3
   },
   "file_extension": ".py",
   "mimetype": "text/x-python",
   "name": "python",
   "nbconvert_exporter": "python",
   "pygments_lexer": "ipython3",
   "version": "3.7.12"
  },
  "papermill": {
   "default_parameters": {},
   "duration": 10.931929,
   "end_time": "2022-12-02T09:46:40.691492",
   "environment_variables": {},
   "exception": null,
   "input_path": "__notebook__.ipynb",
   "output_path": "__notebook__.ipynb",
   "parameters": {},
   "start_time": "2022-12-02T09:46:29.759563",
   "version": "2.3.4"
  }
 },
 "nbformat": 4,
 "nbformat_minor": 5
}
