{
 "cells": [
  {
   "cell_type": "code",
   "execution_count": 1,
   "id": "988e26ed",
   "metadata": {
    "_cell_guid": "b1076dfc-b9ad-4769-8c92-a6c4dae69d19",
    "_uuid": "8f2839f25d086af736a60e9eeb907d3b93b6e0e5",
    "execution": {
     "iopub.execute_input": "2022-12-02T09:30:51.099150Z",
     "iopub.status.busy": "2022-12-02T09:30:51.098592Z",
     "iopub.status.idle": "2022-12-02T09:30:51.116452Z",
     "shell.execute_reply": "2022-12-02T09:30:51.115481Z"
    },
    "papermill": {
     "duration": 0.025994,
     "end_time": "2022-12-02T09:30:51.118755",
     "exception": false,
     "start_time": "2022-12-02T09:30:51.092761",
     "status": "completed"
    },
    "tags": []
   },
   "outputs": [
    {
     "name": "stdout",
     "output_type": "stream",
     "text": [
      "/kaggle/input/lending-club-dataset/loan.csv\n",
      "/kaggle/input/lending-club-dataset/Data_Dictionary.xlsx\n"
     ]
    }
   ],
   "source": [
    "# This Python 3 environment comes with many helpful analytics libraries installed\n",
    "# It is defined by the kaggle/python Docker image: https://github.com/kaggle/docker-python\n",
    "# For example, here's several helpful packages to load\n",
    "\n",
    "import numpy as np # linear algebra\n",
    "import pandas as pd # data processing, CSV file I/O (e.g. pd.read_csv)\n",
    "\n",
    "# Input data files are available in the read-only \"../input/\" directory\n",
    "# For example, running this (by clicking run or pressing Shift+Enter) will list all files under the input directory\n",
    "\n",
    "import os\n",
    "for dirname, _, filenames in os.walk('/kaggle/input'):\n",
    "    for filename in filenames:\n",
    "        print(os.path.join(dirname, filename))\n",
    "\n",
    "# You can write up to 20GB to the current directory (/kaggle/working/) that gets preserved as output when you create a version using \"Save & Run All\" \n",
    "# You can also write temporary files to /kaggle/temp/, but they won't be saved outside of the current session"
   ]
  },
  {
   "cell_type": "code",
   "execution_count": 2,
   "id": "7dcc026c",
   "metadata": {
    "execution": {
     "iopub.execute_input": "2022-12-02T09:30:51.126098Z",
     "iopub.status.busy": "2022-12-02T09:30:51.125792Z",
     "iopub.status.idle": "2022-12-02T09:30:52.388905Z",
     "shell.execute_reply": "2022-12-02T09:30:52.387935Z"
    },
    "papermill": {
     "duration": 1.269357,
     "end_time": "2022-12-02T09:30:52.391327",
     "exception": false,
     "start_time": "2022-12-02T09:30:51.121970",
     "status": "completed"
    },
    "tags": []
   },
   "outputs": [
    {
     "name": "stdout",
     "output_type": "stream",
     "text": [
      "<class 'pandas.core.frame.DataFrame'>\n",
      "RangeIndex: 39717 entries, 0 to 39716\n",
      "Columns: 111 entries, id to total_il_high_credit_limit\n",
      "dtypes: float64(74), int64(13), object(24)\n",
      "memory usage: 33.6+ MB\n"
     ]
    },
    {
     "name": "stderr",
     "output_type": "stream",
     "text": [
      "/opt/conda/lib/python3.7/site-packages/IPython/core/interactiveshell.py:3552: DtypeWarning: Columns (47) have mixed types.Specify dtype option on import or set low_memory=False.\n",
      "  exec(code_obj, self.user_global_ns, self.user_ns)\n"
     ]
    }
   ],
   "source": [
    "loan = pd.read_csv(\"/kaggle/input/lending-club-dataset/loan.csv\")\n",
    "loan.info()"
   ]
  },
  {
   "cell_type": "code",
   "execution_count": 3,
   "id": "66939d62",
   "metadata": {
    "execution": {
     "iopub.execute_input": "2022-12-02T09:30:52.403400Z",
     "iopub.status.busy": "2022-12-02T09:30:52.401606Z",
     "iopub.status.idle": "2022-12-02T09:30:52.474001Z",
     "shell.execute_reply": "2022-12-02T09:30:52.472941Z"
    },
    "papermill": {
     "duration": 0.079875,
     "end_time": "2022-12-02T09:30:52.476087",
     "exception": false,
     "start_time": "2022-12-02T09:30:52.396212",
     "status": "completed"
    },
    "tags": []
   },
   "outputs": [
    {
     "name": "stdout",
     "output_type": "stream",
     "text": [
      "Shape before dropping columns with nulls > 10% \t:\t(39717, 111)\n",
      "Number of Columns with nulls > 50% \t:\t58\n",
      "Shape after dropping columns with nulls > 50% \t:\t(39717, 53)\n"
     ]
    }
   ],
   "source": [
    "print(f\"Shape before dropping columns with nulls > 10% \\t:\\t{loan.shape}\")\n",
    "null_50_cols = loan.columns[loan.isna().sum()/len(loan.index) *100 > 10]\n",
    "print(f\"Number of Columns with nulls > 50% \\t:\\t{len(null_50_cols)}\")\n",
    "#Dropping Columns with nulls > 50%\n",
    "loan.drop(null_50_cols, axis =1, inplace=True)\n",
    "print(f\"Shape after dropping columns with nulls > 50% \\t:\\t{loan.shape}\")"
   ]
  },
  {
   "cell_type": "code",
   "execution_count": 4,
   "id": "e7b99867",
   "metadata": {
    "execution": {
     "iopub.execute_input": "2022-12-02T09:30:52.484109Z",
     "iopub.status.busy": "2022-12-02T09:30:52.483784Z",
     "iopub.status.idle": "2022-12-02T09:30:52.626665Z",
     "shell.execute_reply": "2022-12-02T09:30:52.624914Z"
    },
    "papermill": {
     "duration": 0.149481,
     "end_time": "2022-12-02T09:30:52.628981",
     "exception": false,
     "start_time": "2022-12-02T09:30:52.479500",
     "status": "completed"
    },
    "tags": []
   },
   "outputs": [
    {
     "name": "stdout",
     "output_type": "stream",
     "text": [
      "Columns with only one value \t:\t ['pymnt_plan', 'initial_list_status', 'collections_12_mths_ex_med', 'policy_code', 'application_type', 'acc_now_delinq', 'chargeoff_within_12_mths', 'delinq_amnt', 'tax_liens']\n"
     ]
    }
   ],
   "source": [
    "#Columns with only one value in them\n",
    "single_value_columns = []\n",
    "for i in loan.columns:\n",
    "    if loan[i].dropna().nunique() == 1:\n",
    "        single_value_columns.append(i)\n",
    "print(f'Columns with only one value \\t:\\t {single_value_columns}')"
   ]
  },
  {
   "cell_type": "code",
   "execution_count": 5,
   "id": "05f6fc4d",
   "metadata": {
    "execution": {
     "iopub.execute_input": "2022-12-02T09:30:52.637631Z",
     "iopub.status.busy": "2022-12-02T09:30:52.636779Z",
     "iopub.status.idle": "2022-12-02T09:30:52.653979Z",
     "shell.execute_reply": "2022-12-02T09:30:52.652855Z"
    },
    "papermill": {
     "duration": 0.024251,
     "end_time": "2022-12-02T09:30:52.656588",
     "exception": false,
     "start_time": "2022-12-02T09:30:52.632337",
     "status": "completed"
    },
    "tags": []
   },
   "outputs": [
    {
     "name": "stdout",
     "output_type": "stream",
     "text": [
      "Shape before dropping columns with only one value \t:\t(39717, 53)\n",
      "Number of Columns with only one value \t:\t9\n",
      "Shape after dropping columns only one value \t:\t(39717, 44)\n"
     ]
    }
   ],
   "source": [
    "print(f\"Shape before dropping columns with only one value \\t:\\t{loan.shape}\")\n",
    "print(f\"Number of Columns with only one value \\t:\\t{len(single_value_columns)}\")\n",
    "loan.drop(single_value_columns, axis =1, inplace=True)\n",
    "print(f\"Shape after dropping columns only one value \\t:\\t{loan.shape}\")"
   ]
  },
  {
   "cell_type": "code",
   "execution_count": 6,
   "id": "f9fc4f70",
   "metadata": {
    "execution": {
     "iopub.execute_input": "2022-12-02T09:30:52.664610Z",
     "iopub.status.busy": "2022-12-02T09:30:52.664318Z",
     "iopub.status.idle": "2022-12-02T09:30:52.784239Z",
     "shell.execute_reply": "2022-12-02T09:30:52.783316Z"
    },
    "papermill": {
     "duration": 0.126297,
     "end_time": "2022-12-02T09:30:52.786248",
     "exception": false,
     "start_time": "2022-12-02T09:30:52.659951",
     "status": "completed"
    },
    "tags": []
   },
   "outputs": [
    {
     "data": {
      "text/plain": [
       "0"
      ]
     },
     "execution_count": 6,
     "metadata": {},
     "output_type": "execute_result"
    }
   ],
   "source": [
    "#Number of Duplicated Rows\n",
    "loan.duplicated().sum()"
   ]
  },
  {
   "cell_type": "code",
   "execution_count": 7,
   "id": "5c54987e",
   "metadata": {
    "execution": {
     "iopub.execute_input": "2022-12-02T09:30:52.795087Z",
     "iopub.status.busy": "2022-12-02T09:30:52.794212Z",
     "iopub.status.idle": "2022-12-02T09:30:52.818359Z",
     "shell.execute_reply": "2022-12-02T09:30:52.817290Z"
    },
    "papermill": {
     "duration": 0.031499,
     "end_time": "2022-12-02T09:30:52.821224",
     "exception": false,
     "start_time": "2022-12-02T09:30:52.789725",
     "status": "completed"
    },
    "tags": []
   },
   "outputs": [
    {
     "data": {
      "text/html": [
       "<div>\n",
       "<style scoped>\n",
       "    .dataframe tbody tr th:only-of-type {\n",
       "        vertical-align: middle;\n",
       "    }\n",
       "\n",
       "    .dataframe tbody tr th {\n",
       "        vertical-align: top;\n",
       "    }\n",
       "\n",
       "    .dataframe thead th {\n",
       "        text-align: right;\n",
       "    }\n",
       "</style>\n",
       "<table border=\"1\" class=\"dataframe\">\n",
       "  <thead>\n",
       "    <tr style=\"text-align: right;\">\n",
       "      <th></th>\n",
       "      <th>id</th>\n",
       "      <th>member_id</th>\n",
       "      <th>loan_amnt</th>\n",
       "      <th>funded_amnt</th>\n",
       "      <th>funded_amnt_inv</th>\n",
       "      <th>term</th>\n",
       "      <th>int_rate</th>\n",
       "      <th>installment</th>\n",
       "      <th>grade</th>\n",
       "      <th>sub_grade</th>\n",
       "    </tr>\n",
       "  </thead>\n",
       "  <tbody>\n",
       "    <tr>\n",
       "      <th>0</th>\n",
       "      <td>1077501</td>\n",
       "      <td>1296599</td>\n",
       "      <td>5000</td>\n",
       "      <td>5000</td>\n",
       "      <td>4975.0</td>\n",
       "      <td>36 months</td>\n",
       "      <td>10.65%</td>\n",
       "      <td>162.87</td>\n",
       "      <td>B</td>\n",
       "      <td>B2</td>\n",
       "    </tr>\n",
       "    <tr>\n",
       "      <th>1</th>\n",
       "      <td>1077430</td>\n",
       "      <td>1314167</td>\n",
       "      <td>2500</td>\n",
       "      <td>2500</td>\n",
       "      <td>2500.0</td>\n",
       "      <td>60 months</td>\n",
       "      <td>15.27%</td>\n",
       "      <td>59.83</td>\n",
       "      <td>C</td>\n",
       "      <td>C4</td>\n",
       "    </tr>\n",
       "    <tr>\n",
       "      <th>2</th>\n",
       "      <td>1077175</td>\n",
       "      <td>1313524</td>\n",
       "      <td>2400</td>\n",
       "      <td>2400</td>\n",
       "      <td>2400.0</td>\n",
       "      <td>36 months</td>\n",
       "      <td>15.96%</td>\n",
       "      <td>84.33</td>\n",
       "      <td>C</td>\n",
       "      <td>C5</td>\n",
       "    </tr>\n",
       "    <tr>\n",
       "      <th>3</th>\n",
       "      <td>1076863</td>\n",
       "      <td>1277178</td>\n",
       "      <td>10000</td>\n",
       "      <td>10000</td>\n",
       "      <td>10000.0</td>\n",
       "      <td>36 months</td>\n",
       "      <td>13.49%</td>\n",
       "      <td>339.31</td>\n",
       "      <td>C</td>\n",
       "      <td>C1</td>\n",
       "    </tr>\n",
       "    <tr>\n",
       "      <th>4</th>\n",
       "      <td>1075358</td>\n",
       "      <td>1311748</td>\n",
       "      <td>3000</td>\n",
       "      <td>3000</td>\n",
       "      <td>3000.0</td>\n",
       "      <td>60 months</td>\n",
       "      <td>12.69%</td>\n",
       "      <td>67.79</td>\n",
       "      <td>B</td>\n",
       "      <td>B5</td>\n",
       "    </tr>\n",
       "    <tr>\n",
       "      <th>...</th>\n",
       "      <td>...</td>\n",
       "      <td>...</td>\n",
       "      <td>...</td>\n",
       "      <td>...</td>\n",
       "      <td>...</td>\n",
       "      <td>...</td>\n",
       "      <td>...</td>\n",
       "      <td>...</td>\n",
       "      <td>...</td>\n",
       "      <td>...</td>\n",
       "    </tr>\n",
       "    <tr>\n",
       "      <th>39712</th>\n",
       "      <td>92187</td>\n",
       "      <td>92174</td>\n",
       "      <td>2500</td>\n",
       "      <td>2500</td>\n",
       "      <td>1075.0</td>\n",
       "      <td>36 months</td>\n",
       "      <td>8.07%</td>\n",
       "      <td>78.42</td>\n",
       "      <td>A</td>\n",
       "      <td>A4</td>\n",
       "    </tr>\n",
       "    <tr>\n",
       "      <th>39713</th>\n",
       "      <td>90665</td>\n",
       "      <td>90607</td>\n",
       "      <td>8500</td>\n",
       "      <td>8500</td>\n",
       "      <td>875.0</td>\n",
       "      <td>36 months</td>\n",
       "      <td>10.28%</td>\n",
       "      <td>275.38</td>\n",
       "      <td>C</td>\n",
       "      <td>C1</td>\n",
       "    </tr>\n",
       "    <tr>\n",
       "      <th>39714</th>\n",
       "      <td>90395</td>\n",
       "      <td>90390</td>\n",
       "      <td>5000</td>\n",
       "      <td>5000</td>\n",
       "      <td>1325.0</td>\n",
       "      <td>36 months</td>\n",
       "      <td>8.07%</td>\n",
       "      <td>156.84</td>\n",
       "      <td>A</td>\n",
       "      <td>A4</td>\n",
       "    </tr>\n",
       "    <tr>\n",
       "      <th>39715</th>\n",
       "      <td>90376</td>\n",
       "      <td>89243</td>\n",
       "      <td>5000</td>\n",
       "      <td>5000</td>\n",
       "      <td>650.0</td>\n",
       "      <td>36 months</td>\n",
       "      <td>7.43%</td>\n",
       "      <td>155.38</td>\n",
       "      <td>A</td>\n",
       "      <td>A2</td>\n",
       "    </tr>\n",
       "    <tr>\n",
       "      <th>39716</th>\n",
       "      <td>87023</td>\n",
       "      <td>86999</td>\n",
       "      <td>7500</td>\n",
       "      <td>7500</td>\n",
       "      <td>800.0</td>\n",
       "      <td>36 months</td>\n",
       "      <td>13.75%</td>\n",
       "      <td>255.43</td>\n",
       "      <td>E</td>\n",
       "      <td>E2</td>\n",
       "    </tr>\n",
       "  </tbody>\n",
       "</table>\n",
       "<p>39717 rows × 10 columns</p>\n",
       "</div>"
      ],
      "text/plain": [
       "            id  member_id  loan_amnt  funded_amnt  funded_amnt_inv  \\\n",
       "0      1077501    1296599       5000         5000           4975.0   \n",
       "1      1077430    1314167       2500         2500           2500.0   \n",
       "2      1077175    1313524       2400         2400           2400.0   \n",
       "3      1076863    1277178      10000        10000          10000.0   \n",
       "4      1075358    1311748       3000         3000           3000.0   \n",
       "...        ...        ...        ...          ...              ...   \n",
       "39712    92187      92174       2500         2500           1075.0   \n",
       "39713    90665      90607       8500         8500            875.0   \n",
       "39714    90395      90390       5000         5000           1325.0   \n",
       "39715    90376      89243       5000         5000            650.0   \n",
       "39716    87023      86999       7500         7500            800.0   \n",
       "\n",
       "             term int_rate  installment grade sub_grade  \n",
       "0       36 months   10.65%       162.87     B        B2  \n",
       "1       60 months   15.27%        59.83     C        C4  \n",
       "2       36 months   15.96%        84.33     C        C5  \n",
       "3       36 months   13.49%       339.31     C        C1  \n",
       "4       60 months   12.69%        67.79     B        B5  \n",
       "...           ...      ...          ...   ...       ...  \n",
       "39712   36 months    8.07%        78.42     A        A4  \n",
       "39713   36 months   10.28%       275.38     C        C1  \n",
       "39714   36 months    8.07%       156.84     A        A4  \n",
       "39715   36 months    7.43%       155.38     A        A2  \n",
       "39716   36 months   13.75%       255.43     E        E2  \n",
       "\n",
       "[39717 rows x 10 columns]"
      ]
     },
     "execution_count": 7,
     "metadata": {},
     "output_type": "execute_result"
    }
   ],
   "source": [
    "loan.iloc[:,:10]"
   ]
  },
  {
   "cell_type": "code",
   "execution_count": 8,
   "id": "fcac77be",
   "metadata": {
    "execution": {
     "iopub.execute_input": "2022-12-02T09:30:52.831163Z",
     "iopub.status.busy": "2022-12-02T09:30:52.829629Z",
     "iopub.status.idle": "2022-12-02T09:30:52.834608Z",
     "shell.execute_reply": "2022-12-02T09:30:52.833642Z"
    },
    "papermill": {
     "duration": 0.011532,
     "end_time": "2022-12-02T09:30:52.836681",
     "exception": false,
     "start_time": "2022-12-02T09:30:52.825149",
     "status": "completed"
    },
    "tags": []
   },
   "outputs": [],
   "source": [
    "#Of these 10 columns, id and member_id are not relevant for prediction. Term and int_rate need to be\n",
    "#Formatted and changed into int/float. grade should be dropped since sub grade makes it redundant. sub_grade\n",
    "#Should be encoded"
   ]
  },
  {
   "cell_type": "code",
   "execution_count": 9,
   "id": "3925d013",
   "metadata": {
    "execution": {
     "iopub.execute_input": "2022-12-02T09:30:52.847113Z",
     "iopub.status.busy": "2022-12-02T09:30:52.845431Z",
     "iopub.status.idle": "2022-12-02T09:30:52.863256Z",
     "shell.execute_reply": "2022-12-02T09:30:52.861920Z"
    },
    "papermill": {
     "duration": 0.024938,
     "end_time": "2022-12-02T09:30:52.865313",
     "exception": false,
     "start_time": "2022-12-02T09:30:52.840375",
     "status": "completed"
    },
    "tags": []
   },
   "outputs": [
    {
     "name": "stdout",
     "output_type": "stream",
     "text": [
      "Shape before dropping grade \t:\t(39717, 44)\n",
      "Shape after dropping grade \t:\t(39717, 43)\n"
     ]
    }
   ],
   "source": [
    "print(f\"Shape before dropping grade \\t:\\t{loan.shape}\")\n",
    "loan.drop(['grade'], axis = 1, inplace = True)\n",
    "print(f\"Shape after dropping grade \\t:\\t{loan.shape}\")"
   ]
  },
  {
   "cell_type": "code",
   "execution_count": 10,
   "id": "f018ba4f",
   "metadata": {
    "execution": {
     "iopub.execute_input": "2022-12-02T09:30:52.874738Z",
     "iopub.status.busy": "2022-12-02T09:30:52.873797Z",
     "iopub.status.idle": "2022-12-02T09:30:52.900752Z",
     "shell.execute_reply": "2022-12-02T09:30:52.899831Z"
    },
    "papermill": {
     "duration": 0.033789,
     "end_time": "2022-12-02T09:30:52.902967",
     "exception": false,
     "start_time": "2022-12-02T09:30:52.869178",
     "status": "completed"
    },
    "tags": []
   },
   "outputs": [],
   "source": [
    "#Formatting int_rate\n",
    "loan['int_rate'] = loan['int_rate'].str.replace(\"%\",\"\").astype(float)"
   ]
  },
  {
   "cell_type": "code",
   "execution_count": 11,
   "id": "93cbaf13",
   "metadata": {
    "execution": {
     "iopub.execute_input": "2022-12-02T09:30:52.911839Z",
     "iopub.status.busy": "2022-12-02T09:30:52.911549Z",
     "iopub.status.idle": "2022-12-02T09:30:52.920715Z",
     "shell.execute_reply": "2022-12-02T09:30:52.919869Z"
    },
    "papermill": {
     "duration": 0.015886,
     "end_time": "2022-12-02T09:30:52.922760",
     "exception": false,
     "start_time": "2022-12-02T09:30:52.906874",
     "status": "completed"
    },
    "tags": []
   },
   "outputs": [
    {
     "data": {
      "text/plain": [
       "array([' 36 months', ' 60 months'], dtype=object)"
      ]
     },
     "execution_count": 11,
     "metadata": {},
     "output_type": "execute_result"
    }
   ],
   "source": [
    "loan['term'].unique()"
   ]
  },
  {
   "cell_type": "code",
   "execution_count": null,
   "id": "c9ead05b",
   "metadata": {
    "papermill": {
     "duration": 0.003889,
     "end_time": "2022-12-02T09:30:52.930383",
     "exception": false,
     "start_time": "2022-12-02T09:30:52.926494",
     "status": "completed"
    },
    "tags": []
   },
   "outputs": [],
   "source": []
  }
 ],
 "metadata": {
  "kernelspec": {
   "display_name": "Python 3",
   "language": "python",
   "name": "python3"
  },
  "language_info": {
   "codemirror_mode": {
    "name": "ipython",
    "version": 3
   },
   "file_extension": ".py",
   "mimetype": "text/x-python",
   "name": "python",
   "nbconvert_exporter": "python",
   "pygments_lexer": "ipython3",
   "version": "3.7.12"
  },
  "papermill": {
   "default_parameters": {},
   "duration": 10.202283,
   "end_time": "2022-12-02T09:30:53.453707",
   "environment_variables": {},
   "exception": null,
   "input_path": "__notebook__.ipynb",
   "output_path": "__notebook__.ipynb",
   "parameters": {},
   "start_time": "2022-12-02T09:30:43.251424",
   "version": "2.3.4"
  }
 },
 "nbformat": 4,
 "nbformat_minor": 5
}
